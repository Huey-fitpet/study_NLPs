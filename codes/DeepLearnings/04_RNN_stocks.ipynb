{
 "cells": [
  {
   "cell_type": "markdown",
   "id": "5456d7b4",
   "metadata": {
    "papermill": {
     "duration": 0.004303,
     "end_time": "2025-02-04T06:47:55.447215",
     "exception": false,
     "start_time": "2025-02-04T06:47:55.442912",
     "status": "completed"
    },
    "tags": []
   },
   "source": [
    "## simple RNN\n",
    "- dataset : massive-yahoo-finance-dataset\n",
    "- 연속형(시계열, 문장 등) 데이터 처리에 유리"
   ]
  },
  {
   "cell_type": "markdown",
   "id": "76ee77fb",
   "metadata": {
    "papermill": {
     "duration": 0.003911,
     "end_time": "2025-02-04T06:47:55.454860",
     "exception": false,
     "start_time": "2025-02-04T06:47:55.450949",
     "status": "completed"
    },
    "tags": []
   },
   "source": [
    "### 데이터 처리"
   ]
  },
  {
   "cell_type": "code",
   "execution_count": 1,
   "id": "3d494b43",
   "metadata": {
    "execution": {
     "iopub.execute_input": "2025-02-04T06:47:55.463376Z",
     "iopub.status.busy": "2025-02-04T06:47:55.462989Z",
     "iopub.status.idle": "2025-02-04T06:47:57.527299Z",
     "shell.execute_reply": "2025-02-04T06:47:57.526268Z"
    },
    "papermill": {
     "duration": 2.070544,
     "end_time": "2025-02-04T06:47:57.528947",
     "exception": false,
     "start_time": "2025-02-04T06:47:55.458403",
     "status": "completed"
    },
    "tags": []
   },
   "outputs": [
    {
     "data": {
      "text/html": [
       "<div>\n",
       "<style scoped>\n",
       "    .dataframe tbody tr th:only-of-type {\n",
       "        vertical-align: middle;\n",
       "    }\n",
       "\n",
       "    .dataframe tbody tr th {\n",
       "        vertical-align: top;\n",
       "    }\n",
       "\n",
       "    .dataframe thead th {\n",
       "        text-align: right;\n",
       "    }\n",
       "</style>\n",
       "<table border=\"1\" class=\"dataframe\">\n",
       "  <thead>\n",
       "    <tr style=\"text-align: right;\">\n",
       "      <th></th>\n",
       "      <th>Date</th>\n",
       "      <th>Open</th>\n",
       "      <th>High</th>\n",
       "      <th>Low</th>\n",
       "      <th>Close</th>\n",
       "      <th>Volume</th>\n",
       "      <th>Dividends</th>\n",
       "      <th>Stock Splits</th>\n",
       "      <th>Company</th>\n",
       "    </tr>\n",
       "  </thead>\n",
       "  <tbody>\n",
       "    <tr>\n",
       "      <th>0</th>\n",
       "      <td>2018-11-29 00:00:00-05:00</td>\n",
       "      <td>43.829761</td>\n",
       "      <td>43.863354</td>\n",
       "      <td>42.639594</td>\n",
       "      <td>43.083508</td>\n",
       "      <td>167080000</td>\n",
       "      <td>0.00</td>\n",
       "      <td>0.0</td>\n",
       "      <td>AAPL</td>\n",
       "    </tr>\n",
       "    <tr>\n",
       "      <th>1</th>\n",
       "      <td>2018-11-29 00:00:00-05:00</td>\n",
       "      <td>104.769074</td>\n",
       "      <td>105.519257</td>\n",
       "      <td>103.534595</td>\n",
       "      <td>104.636131</td>\n",
       "      <td>28123200</td>\n",
       "      <td>0.00</td>\n",
       "      <td>0.0</td>\n",
       "      <td>MSFT</td>\n",
       "    </tr>\n",
       "    <tr>\n",
       "      <th>2</th>\n",
       "      <td>2018-11-29 00:00:00-05:00</td>\n",
       "      <td>54.176498</td>\n",
       "      <td>55.007500</td>\n",
       "      <td>54.099998</td>\n",
       "      <td>54.729000</td>\n",
       "      <td>31004000</td>\n",
       "      <td>0.00</td>\n",
       "      <td>0.0</td>\n",
       "      <td>GOOGL</td>\n",
       "    </tr>\n",
       "    <tr>\n",
       "      <th>3</th>\n",
       "      <td>2018-11-29 00:00:00-05:00</td>\n",
       "      <td>83.749496</td>\n",
       "      <td>84.499496</td>\n",
       "      <td>82.616501</td>\n",
       "      <td>83.678497</td>\n",
       "      <td>132264000</td>\n",
       "      <td>0.00</td>\n",
       "      <td>0.0</td>\n",
       "      <td>AMZN</td>\n",
       "    </tr>\n",
       "    <tr>\n",
       "      <th>4</th>\n",
       "      <td>2018-11-29 00:00:00-05:00</td>\n",
       "      <td>39.692784</td>\n",
       "      <td>40.064904</td>\n",
       "      <td>38.735195</td>\n",
       "      <td>39.037853</td>\n",
       "      <td>54917200</td>\n",
       "      <td>0.04</td>\n",
       "      <td>0.0</td>\n",
       "      <td>NVDA</td>\n",
       "    </tr>\n",
       "  </tbody>\n",
       "</table>\n",
       "</div>"
      ],
      "text/plain": [
       "                        Date        Open        High         Low       Close  \\\n",
       "0  2018-11-29 00:00:00-05:00   43.829761   43.863354   42.639594   43.083508   \n",
       "1  2018-11-29 00:00:00-05:00  104.769074  105.519257  103.534595  104.636131   \n",
       "2  2018-11-29 00:00:00-05:00   54.176498   55.007500   54.099998   54.729000   \n",
       "3  2018-11-29 00:00:00-05:00   83.749496   84.499496   82.616501   83.678497   \n",
       "4  2018-11-29 00:00:00-05:00   39.692784   40.064904   38.735195   39.037853   \n",
       "\n",
       "      Volume  Dividends  Stock Splits Company  \n",
       "0  167080000       0.00           0.0    AAPL  \n",
       "1   28123200       0.00           0.0    MSFT  \n",
       "2   31004000       0.00           0.0   GOOGL  \n",
       "3  132264000       0.00           0.0    AMZN  \n",
       "4   54917200       0.04           0.0    NVDA  "
      ]
     },
     "execution_count": 1,
     "metadata": {},
     "output_type": "execute_result"
    }
   ],
   "source": [
    "# 데이터 로드\n",
    "import pandas as pd\n",
    "file_path = f'/kaggle/input/massive-yahoo-finance-dataset/stock_details_5_years.csv'\n",
    "stock_df_all = pd.read_csv(file_path)\n",
    "stock_df_all.head()"
   ]
  },
  {
   "cell_type": "code",
   "execution_count": 2,
   "id": "bccf8825",
   "metadata": {
    "execution": {
     "iopub.execute_input": "2025-02-04T06:47:57.538181Z",
     "iopub.status.busy": "2025-02-04T06:47:57.537879Z",
     "iopub.status.idle": "2025-02-04T06:47:57.602144Z",
     "shell.execute_reply": "2025-02-04T06:47:57.601177Z"
    },
    "papermill": {
     "duration": 0.070436,
     "end_time": "2025-02-04T06:47:57.603670",
     "exception": false,
     "start_time": "2025-02-04T06:47:57.533234",
     "status": "completed"
    },
    "tags": []
   },
   "outputs": [
    {
     "data": {
      "text/html": [
       "<div>\n",
       "<style scoped>\n",
       "    .dataframe tbody tr th:only-of-type {\n",
       "        vertical-align: middle;\n",
       "    }\n",
       "\n",
       "    .dataframe tbody tr th {\n",
       "        vertical-align: top;\n",
       "    }\n",
       "\n",
       "    .dataframe thead th {\n",
       "        text-align: right;\n",
       "    }\n",
       "</style>\n",
       "<table border=\"1\" class=\"dataframe\">\n",
       "  <thead>\n",
       "    <tr style=\"text-align: right;\">\n",
       "      <th></th>\n",
       "      <th>Date</th>\n",
       "      <th>Open</th>\n",
       "      <th>High</th>\n",
       "      <th>Low</th>\n",
       "      <th>Close</th>\n",
       "      <th>Volume</th>\n",
       "      <th>Dividends</th>\n",
       "      <th>Stock Splits</th>\n",
       "      <th>Company</th>\n",
       "    </tr>\n",
       "  </thead>\n",
       "  <tbody>\n",
       "    <tr>\n",
       "      <th>0</th>\n",
       "      <td>2018-11-29 00:00:00-05:00</td>\n",
       "      <td>43.829761</td>\n",
       "      <td>43.863354</td>\n",
       "      <td>42.639594</td>\n",
       "      <td>43.083508</td>\n",
       "      <td>167080000</td>\n",
       "      <td>0.0</td>\n",
       "      <td>0.0</td>\n",
       "      <td>AAPL</td>\n",
       "    </tr>\n",
       "    <tr>\n",
       "      <th>458</th>\n",
       "      <td>2018-11-30 00:00:00-05:00</td>\n",
       "      <td>43.261071</td>\n",
       "      <td>43.270671</td>\n",
       "      <td>42.478826</td>\n",
       "      <td>42.850754</td>\n",
       "      <td>158126000</td>\n",
       "      <td>0.0</td>\n",
       "      <td>0.0</td>\n",
       "      <td>AAPL</td>\n",
       "    </tr>\n",
       "    <tr>\n",
       "      <th>916</th>\n",
       "      <td>2018-12-03 00:00:00-05:00</td>\n",
       "      <td>44.261681</td>\n",
       "      <td>44.376858</td>\n",
       "      <td>43.481835</td>\n",
       "      <td>44.348064</td>\n",
       "      <td>163210000</td>\n",
       "      <td>0.0</td>\n",
       "      <td>0.0</td>\n",
       "      <td>AAPL</td>\n",
       "    </tr>\n",
       "    <tr>\n",
       "      <th>1374</th>\n",
       "      <td>2018-12-04 00:00:00-05:00</td>\n",
       "      <td>43.419445</td>\n",
       "      <td>43.764977</td>\n",
       "      <td>42.296468</td>\n",
       "      <td>42.397247</td>\n",
       "      <td>165377200</td>\n",
       "      <td>0.0</td>\n",
       "      <td>0.0</td>\n",
       "      <td>AAPL</td>\n",
       "    </tr>\n",
       "    <tr>\n",
       "      <th>1832</th>\n",
       "      <td>2018-12-06 00:00:00-05:00</td>\n",
       "      <td>41.214280</td>\n",
       "      <td>41.938938</td>\n",
       "      <td>40.892744</td>\n",
       "      <td>41.924541</td>\n",
       "      <td>172393600</td>\n",
       "      <td>0.0</td>\n",
       "      <td>0.0</td>\n",
       "      <td>AAPL</td>\n",
       "    </tr>\n",
       "  </tbody>\n",
       "</table>\n",
       "</div>"
      ],
      "text/plain": [
       "                           Date       Open       High        Low      Close  \\\n",
       "0     2018-11-29 00:00:00-05:00  43.829761  43.863354  42.639594  43.083508   \n",
       "458   2018-11-30 00:00:00-05:00  43.261071  43.270671  42.478826  42.850754   \n",
       "916   2018-12-03 00:00:00-05:00  44.261681  44.376858  43.481835  44.348064   \n",
       "1374  2018-12-04 00:00:00-05:00  43.419445  43.764977  42.296468  42.397247   \n",
       "1832  2018-12-06 00:00:00-05:00  41.214280  41.938938  40.892744  41.924541   \n",
       "\n",
       "         Volume  Dividends  Stock Splits Company  \n",
       "0     167080000        0.0           0.0    AAPL  \n",
       "458   158126000        0.0           0.0    AAPL  \n",
       "916   163210000        0.0           0.0    AAPL  \n",
       "1374  165377200        0.0           0.0    AAPL  \n",
       "1832  172393600        0.0           0.0    AAPL  "
      ]
     },
     "execution_count": 2,
     "metadata": {},
     "output_type": "execute_result"
    }
   ],
   "source": [
    "selected_company = 'AAPL'\n",
    "stock_df = stock_df_all[stock_df_all['Company'] == selected_company].copy()\n",
    "stock_df.head()"
   ]
  },
  {
   "cell_type": "code",
   "execution_count": 3,
   "id": "8c67f776",
   "metadata": {
    "execution": {
     "iopub.execute_input": "2025-02-04T06:47:57.614145Z",
     "iopub.status.busy": "2025-02-04T06:47:57.613841Z",
     "iopub.status.idle": "2025-02-04T06:47:57.631521Z",
     "shell.execute_reply": "2025-02-04T06:47:57.630313Z"
    },
    "papermill": {
     "duration": 0.024704,
     "end_time": "2025-02-04T06:47:57.633190",
     "exception": false,
     "start_time": "2025-02-04T06:47:57.608486",
     "status": "completed"
    },
    "tags": []
   },
   "outputs": [
    {
     "name": "stdout",
     "output_type": "stream",
     "text": [
      "<class 'pandas.core.frame.DataFrame'>\n",
      "Index: 1258 entries, 0 to 602471\n",
      "Data columns (total 9 columns):\n",
      " #   Column        Non-Null Count  Dtype  \n",
      "---  ------        --------------  -----  \n",
      " 0   Date          1258 non-null   object \n",
      " 1   Open          1258 non-null   float64\n",
      " 2   High          1258 non-null   float64\n",
      " 3   Low           1258 non-null   float64\n",
      " 4   Close         1258 non-null   float64\n",
      " 5   Volume        1258 non-null   int64  \n",
      " 6   Dividends     1258 non-null   float64\n",
      " 7   Stock Splits  1258 non-null   float64\n",
      " 8   Company       1258 non-null   object \n",
      "dtypes: float64(6), int64(1), object(2)\n",
      "memory usage: 98.3+ KB\n"
     ]
    }
   ],
   "source": [
    "stock_df.info()"
   ]
  },
  {
   "cell_type": "code",
   "execution_count": 4,
   "id": "7198645e",
   "metadata": {
    "execution": {
     "iopub.execute_input": "2025-02-04T06:47:57.644127Z",
     "iopub.status.busy": "2025-02-04T06:47:57.643805Z",
     "iopub.status.idle": "2025-02-04T06:47:57.669665Z",
     "shell.execute_reply": "2025-02-04T06:47:57.668371Z"
    },
    "papermill": {
     "duration": 0.033779,
     "end_time": "2025-02-04T06:47:57.671337",
     "exception": false,
     "start_time": "2025-02-04T06:47:57.637558",
     "status": "completed"
    },
    "tags": []
   },
   "outputs": [
    {
     "name": "stdout",
     "output_type": "stream",
     "text": [
      "<class 'pandas.core.frame.DataFrame'>\n",
      "Index: 1258 entries, 0 to 602471\n",
      "Data columns (total 9 columns):\n",
      " #   Column        Non-Null Count  Dtype              \n",
      "---  ------        --------------  -----              \n",
      " 0   Date          1258 non-null   datetime64[ns, UTC]\n",
      " 1   Open          1258 non-null   float64            \n",
      " 2   High          1258 non-null   float64            \n",
      " 3   Low           1258 non-null   float64            \n",
      " 4   Close         1258 non-null   float64            \n",
      " 5   Volume        1258 non-null   int64              \n",
      " 6   Dividends     1258 non-null   float64            \n",
      " 7   Stock Splits  1258 non-null   float64            \n",
      " 8   Company       1258 non-null   object             \n",
      "dtypes: datetime64[ns, UTC](1), float64(6), int64(1), object(1)\n",
      "memory usage: 98.3+ KB\n"
     ]
    }
   ],
   "source": [
    "# 날짜를 datetime 으로 변환\n",
    "stock_df['Date'] = pd.to_datetime(stock_df['Date'], utc=True)\n",
    "stock_df.info()"
   ]
  },
  {
   "cell_type": "code",
   "execution_count": 5,
   "id": "e51a2f8f",
   "metadata": {
    "execution": {
     "iopub.execute_input": "2025-02-04T06:47:57.680963Z",
     "iopub.status.busy": "2025-02-04T06:47:57.680714Z",
     "iopub.status.idle": "2025-02-04T06:47:58.701101Z",
     "shell.execute_reply": "2025-02-04T06:47:58.700058Z"
    },
    "papermill": {
     "duration": 1.027093,
     "end_time": "2025-02-04T06:47:58.702924",
     "exception": false,
     "start_time": "2025-02-04T06:47:57.675831",
     "status": "completed"
    },
    "tags": []
   },
   "outputs": [
    {
     "data": {
      "text/html": [
       "<div>\n",
       "<style scoped>\n",
       "    .dataframe tbody tr th:only-of-type {\n",
       "        vertical-align: middle;\n",
       "    }\n",
       "\n",
       "    .dataframe tbody tr th {\n",
       "        vertical-align: top;\n",
       "    }\n",
       "\n",
       "    .dataframe thead th {\n",
       "        text-align: right;\n",
       "    }\n",
       "</style>\n",
       "<table border=\"1\" class=\"dataframe\">\n",
       "  <thead>\n",
       "    <tr style=\"text-align: right;\">\n",
       "      <th></th>\n",
       "      <th>Date</th>\n",
       "      <th>Open</th>\n",
       "      <th>High</th>\n",
       "      <th>Low</th>\n",
       "      <th>Close</th>\n",
       "      <th>Volume</th>\n",
       "      <th>Dividends</th>\n",
       "      <th>Stock Splits</th>\n",
       "      <th>Company</th>\n",
       "    </tr>\n",
       "  </thead>\n",
       "  <tbody>\n",
       "    <tr>\n",
       "      <th>0</th>\n",
       "      <td>2018-11-29 05:00:00+00:00</td>\n",
       "      <td>-1.598199</td>\n",
       "      <td>-1.611253</td>\n",
       "      <td>-1.611061</td>\n",
       "      <td>-1.615618</td>\n",
       "      <td>1.176835</td>\n",
       "      <td>0.0</td>\n",
       "      <td>0.0</td>\n",
       "      <td>AAPL</td>\n",
       "    </tr>\n",
       "    <tr>\n",
       "      <th>458</th>\n",
       "      <td>2018-11-30 05:00:00+00:00</td>\n",
       "      <td>-1.610310</td>\n",
       "      <td>-1.623753</td>\n",
       "      <td>-1.614516</td>\n",
       "      <td>-1.620572</td>\n",
       "      <td>1.010309</td>\n",
       "      <td>0.0</td>\n",
       "      <td>0.0</td>\n",
       "      <td>AAPL</td>\n",
       "    </tr>\n",
       "    <tr>\n",
       "      <th>916</th>\n",
       "      <td>2018-12-03 05:00:00+00:00</td>\n",
       "      <td>-1.589000</td>\n",
       "      <td>-1.600423</td>\n",
       "      <td>-1.592958</td>\n",
       "      <td>-1.588704</td>\n",
       "      <td>1.104861</td>\n",
       "      <td>0.0</td>\n",
       "      <td>0.0</td>\n",
       "      <td>AAPL</td>\n",
       "    </tr>\n",
       "    <tr>\n",
       "      <th>1374</th>\n",
       "      <td>2018-12-04 05:00:00+00:00</td>\n",
       "      <td>-1.606937</td>\n",
       "      <td>-1.613328</td>\n",
       "      <td>-1.618436</td>\n",
       "      <td>-1.630224</td>\n",
       "      <td>1.145166</td>\n",
       "      <td>0.0</td>\n",
       "      <td>0.0</td>\n",
       "      <td>AAPL</td>\n",
       "    </tr>\n",
       "    <tr>\n",
       "      <th>1832</th>\n",
       "      <td>2018-12-06 05:00:00+00:00</td>\n",
       "      <td>-1.653900</td>\n",
       "      <td>-1.651840</td>\n",
       "      <td>-1.648607</td>\n",
       "      <td>-1.640285</td>\n",
       "      <td>1.275657</td>\n",
       "      <td>0.0</td>\n",
       "      <td>0.0</td>\n",
       "      <td>AAPL</td>\n",
       "    </tr>\n",
       "  </tbody>\n",
       "</table>\n",
       "</div>"
      ],
      "text/plain": [
       "                          Date      Open      High       Low     Close  \\\n",
       "0    2018-11-29 05:00:00+00:00 -1.598199 -1.611253 -1.611061 -1.615618   \n",
       "458  2018-11-30 05:00:00+00:00 -1.610310 -1.623753 -1.614516 -1.620572   \n",
       "916  2018-12-03 05:00:00+00:00 -1.589000 -1.600423 -1.592958 -1.588704   \n",
       "1374 2018-12-04 05:00:00+00:00 -1.606937 -1.613328 -1.618436 -1.630224   \n",
       "1832 2018-12-06 05:00:00+00:00 -1.653900 -1.651840 -1.648607 -1.640285   \n",
       "\n",
       "        Volume  Dividends  Stock Splits Company  \n",
       "0     1.176835        0.0           0.0    AAPL  \n",
       "458   1.010309        0.0           0.0    AAPL  \n",
       "916   1.104861        0.0           0.0    AAPL  \n",
       "1374  1.145166        0.0           0.0    AAPL  \n",
       "1832  1.275657        0.0           0.0    AAPL  "
      ]
     },
     "execution_count": 5,
     "metadata": {},
     "output_type": "execute_result"
    }
   ],
   "source": [
    "# 스케일링\n",
    "from sklearn.preprocessing import StandardScaler\n",
    "scaler = StandardScaler()\n",
    "stock_df[['Open','High','Low','Close','Volume']] = scaler.fit_transform(\n",
    "    stock_df[['Open','High','Low','Close','Volume']])\n",
    "stock_df.head()"
   ]
  },
  {
   "cell_type": "code",
   "execution_count": 6,
   "id": "22f4986d",
   "metadata": {
    "execution": {
     "iopub.execute_input": "2025-02-04T06:47:58.714342Z",
     "iopub.status.busy": "2025-02-04T06:47:58.713857Z",
     "iopub.status.idle": "2025-02-04T06:48:03.083569Z",
     "shell.execute_reply": "2025-02-04T06:48:03.082702Z"
    },
    "papermill": {
     "duration": 4.377266,
     "end_time": "2025-02-04T06:48:03.085319",
     "exception": false,
     "start_time": "2025-02-04T06:47:58.708053",
     "status": "completed"
    },
    "tags": []
   },
   "outputs": [],
   "source": [
    "# 시계열 데이터 생성\n",
    "import numpy as np\n",
    "import torch\n",
    "sequence_length = 5 # 5일 단위\n",
    "\n",
    "from tqdm import tqdm\n",
    "\n",
    "def create_sequences(data, seq_length):\n",
    "    xs = []\n",
    "    ys = []\n",
    "    # for i in range(len(data) - seq_length):\n",
    "    for i in tqdm(range(len(data) - seq_length), desc='Generating Sequences'):\n",
    "        x = data[i:i+seq_length]\n",
    "        y = data[i+seq_length]\n",
    "        xs.append(x)\n",
    "        ys.append(y)\n",
    "    return np.array(xs), np.array(ys) # featurs, label"
   ]
  },
  {
   "cell_type": "code",
   "execution_count": 7,
   "id": "3403b743",
   "metadata": {
    "execution": {
     "iopub.execute_input": "2025-02-04T06:48:03.096091Z",
     "iopub.status.busy": "2025-02-04T06:48:03.095690Z",
     "iopub.status.idle": "2025-02-04T06:48:03.108020Z",
     "shell.execute_reply": "2025-02-04T06:48:03.107050Z"
    },
    "papermill": {
     "duration": 0.019444,
     "end_time": "2025-02-04T06:48:03.109635",
     "exception": false,
     "start_time": "2025-02-04T06:48:03.090191",
     "status": "completed"
    },
    "tags": []
   },
   "outputs": [
    {
     "name": "stderr",
     "output_type": "stream",
     "text": [
      "Generating Sequences: 100%|██████████| 1253/1253 [00:00<00:00, 989915.79it/s]\n"
     ]
    },
    {
     "data": {
      "text/plain": [
       "((1253, 5), (1253,))"
      ]
     },
     "execution_count": 7,
     "metadata": {},
     "output_type": "execute_result"
    }
   ],
   "source": [
    "features, label = create_sequences(stock_df['Close'].values, sequence_length)\n",
    "features.shape, label.shape"
   ]
  },
  {
   "cell_type": "code",
   "execution_count": 8,
   "id": "ae4286a3",
   "metadata": {
    "execution": {
     "iopub.execute_input": "2025-02-04T06:48:03.120314Z",
     "iopub.status.busy": "2025-02-04T06:48:03.119993Z",
     "iopub.status.idle": "2025-02-04T06:48:03.153085Z",
     "shell.execute_reply": "2025-02-04T06:48:03.152016Z"
    },
    "papermill": {
     "duration": 0.040174,
     "end_time": "2025-02-04T06:48:03.154675",
     "exception": false,
     "start_time": "2025-02-04T06:48:03.114501",
     "status": "completed"
    },
    "tags": []
   },
   "outputs": [
    {
     "data": {
      "text/plain": [
       "(torch.Size([1253, 5, 1]), torch.Size([1253, 1]))"
      ]
     },
     "execution_count": 8,
     "metadata": {},
     "output_type": "execute_result"
    }
   ],
   "source": [
    "# to tensor \n",
    "features_tensor = torch.tensor(features, dtype=torch.float32).unsqueeze(-1)\n",
    "label_tensor = torch.tensor(label, dtype=torch.float32).unsqueeze(-1)\n",
    "features_tensor.shape, label_tensor.shape"
   ]
  },
  {
   "cell_type": "markdown",
   "id": "ef3ee2ce",
   "metadata": {
    "papermill": {
     "duration": 0.004465,
     "end_time": "2025-02-04T06:48:03.164244",
     "exception": false,
     "start_time": "2025-02-04T06:48:03.159779",
     "status": "completed"
    },
    "tags": []
   },
   "source": [
    "### 모델 학습 "
   ]
  },
  {
   "cell_type": "code",
   "execution_count": 9,
   "id": "c0b3581f",
   "metadata": {
    "execution": {
     "iopub.execute_input": "2025-02-04T06:48:03.174800Z",
     "iopub.status.busy": "2025-02-04T06:48:03.174531Z",
     "iopub.status.idle": "2025-02-04T06:48:03.179771Z",
     "shell.execute_reply": "2025-02-04T06:48:03.178945Z"
    },
    "papermill": {
     "duration": 0.012367,
     "end_time": "2025-02-04T06:48:03.181315",
     "exception": false,
     "start_time": "2025-02-04T06:48:03.168948",
     "status": "completed"
    },
    "tags": []
   },
   "outputs": [],
   "source": [
    "# RNN 모델 정의\n",
    "import torch.nn as nn\n",
    "class SimpleRNN(nn.Module):\n",
    "    def __init__(self, input_size, hidden_size, output_size):\n",
    "        super(SimpleRNN, self).__init__()\n",
    "        self.rnn = nn.RNN(input_size, hidden_size, batch_first=True) # batch_first epoch에 대한 batch size \n",
    "        self.fc = nn.Linear(hidden_size, output_size)\n",
    "        \n",
    "    def forward(self, x):\n",
    "        h0 = torch.zeros(1, x.size(0), hidden_size)\n",
    "        out, _ = self.rnn(x, h0)\n",
    "        out = self.fc(out[:, -1, :])\n",
    "        return out"
   ]
  },
  {
   "cell_type": "code",
   "execution_count": 10,
   "id": "e4d9a3db",
   "metadata": {
    "execution": {
     "iopub.execute_input": "2025-02-04T06:48:03.191770Z",
     "iopub.status.busy": "2025-02-04T06:48:03.191511Z",
     "iopub.status.idle": "2025-02-04T06:48:03.206539Z",
     "shell.execute_reply": "2025-02-04T06:48:03.205577Z"
    },
    "papermill": {
     "duration": 0.021623,
     "end_time": "2025-02-04T06:48:03.207908",
     "exception": false,
     "start_time": "2025-02-04T06:48:03.186285",
     "status": "completed"
    },
    "tags": []
   },
   "outputs": [
    {
     "data": {
      "text/plain": [
       "SimpleRNN(\n",
       "  (rnn): RNN(1, 5, batch_first=True)\n",
       "  (fc): Linear(in_features=5, out_features=1, bias=True)\n",
       ")"
      ]
     },
     "execution_count": 10,
     "metadata": {},
     "output_type": "execute_result"
    }
   ],
   "source": [
    "input_size = 1 # row 단위 갯수\n",
    "hidden_size = 5 # RNN의 은닉층 갯수\n",
    "output_size = 1 # 최종 예측값\n",
    "model = SimpleRNN(input_size,hidden_size,output_size)\n",
    "model"
   ]
  },
  {
   "cell_type": "code",
   "execution_count": 11,
   "id": "63a157f0",
   "metadata": {
    "execution": {
     "iopub.execute_input": "2025-02-04T06:48:03.218724Z",
     "iopub.status.busy": "2025-02-04T06:48:03.218437Z",
     "iopub.status.idle": "2025-02-04T06:48:07.601817Z",
     "shell.execute_reply": "2025-02-04T06:48:07.600695Z"
    },
    "papermill": {
     "duration": 4.391386,
     "end_time": "2025-02-04T06:48:07.604273",
     "exception": false,
     "start_time": "2025-02-04T06:48:03.212887",
     "status": "completed"
    },
    "tags": []
   },
   "outputs": [
    {
     "name": "stderr",
     "output_type": "stream",
     "text": [
      "learning Model:  36%|███▌      | 36/100 [00:00<00:00, 149.26it/s]"
     ]
    },
    {
     "name": "stdout",
     "output_type": "stream",
     "text": [
      "Epoch [0 / 100] : loss 0.9929\n",
      "Epoch [10 / 100] : loss 0.2885\n",
      "Epoch [20 / 100] : loss 0.0649\n",
      "Epoch [30 / 100] : loss 0.0579\n",
      "Epoch [40 / 100] : loss 0.0338\n",
      "Epoch [50 / 100] : loss 0.0256\n",
      "Epoch [60 / 100] : loss 0.0209\n"
     ]
    },
    {
     "name": "stderr",
     "output_type": "stream",
     "text": [
      "learning Model: 100%|██████████| 100/100 [00:00<00:00, 208.56it/s]"
     ]
    },
    {
     "name": "stdout",
     "output_type": "stream",
     "text": [
      "Epoch [70 / 100] : loss 0.0164\n",
      "Epoch [80 / 100] : loss 0.0129\n",
      "Epoch [90 / 100] : loss 0.0105\n"
     ]
    },
    {
     "name": "stderr",
     "output_type": "stream",
     "text": [
      "\n"
     ]
    }
   ],
   "source": [
    "# 모델 학습\n",
    "import torch.optim as optim\n",
    "\n",
    "criterion = nn.MSELoss()\n",
    "optimizer = optim.AdamW(model.parameters(), lr=0.01)\n",
    "\n",
    "epochs = 100\n",
    "\n",
    "for epoch in tqdm(range(epochs),desc = 'learning Model'):\n",
    "    model.train()\n",
    "    outputs = model(features_tensor)\n",
    "    optimizer.zero_grad()\n",
    "    loss = criterion(outputs, label_tensor) # error 율 확인 \n",
    "    loss.backward()\n",
    "    optimizer.step()\n",
    "\n",
    "    if epoch % 10 == 0 :\n",
    "        print(f'Epoch [{epoch} / {epochs}] : loss {loss.item():.4f}')\n",
    "    "
   ]
  },
  {
   "cell_type": "code",
   "execution_count": 12,
   "id": "39d1e686",
   "metadata": {
    "execution": {
     "iopub.execute_input": "2025-02-04T06:48:07.617453Z",
     "iopub.status.busy": "2025-02-04T06:48:07.617000Z",
     "iopub.status.idle": "2025-02-04T06:48:07.636063Z",
     "shell.execute_reply": "2025-02-04T06:48:07.635321Z"
    },
    "papermill": {
     "duration": 0.027041,
     "end_time": "2025-02-04T06:48:07.637491",
     "exception": false,
     "start_time": "2025-02-04T06:48:07.610450",
     "status": "completed"
    },
    "tags": []
   },
   "outputs": [
    {
     "data": {
      "text/plain": [
       "OrderedDict([('rnn.weight_ih_l0',\n",
       "              tensor([[-0.3796],\n",
       "                      [-0.6286],\n",
       "                      [-0.2233],\n",
       "                      [-0.1975],\n",
       "                      [-0.0118]])),\n",
       "             ('rnn.weight_hh_l0',\n",
       "              tensor([[ 0.2179,  0.2530,  0.3912, -0.3470, -0.2947],\n",
       "                      [ 0.4701,  0.1236, -0.0085, -0.1504, -0.3889],\n",
       "                      [ 0.0303,  0.2889, -0.1892,  0.2184, -0.3195],\n",
       "                      [ 0.5114,  0.5527,  0.4162,  0.4732, -0.6567],\n",
       "                      [ 0.3639,  0.3226, -0.1947,  0.0449,  0.2820]])),\n",
       "             ('rnn.bias_ih_l0',\n",
       "              tensor([ 0.2188,  0.4771, -0.1065, -0.1263,  0.2354])),\n",
       "             ('rnn.bias_hh_l0',\n",
       "              tensor([-0.3539,  0.1683,  0.2818, -0.0516,  0.5566])),\n",
       "             ('fc.weight',\n",
       "              tensor([[-0.3887, -0.7016, -0.2013, -0.5400, -0.2351]])),\n",
       "             ('fc.bias', tensor([0.0172]))])"
      ]
     },
     "execution_count": 12,
     "metadata": {},
     "output_type": "execute_result"
    }
   ],
   "source": [
    "model.state_dict()"
   ]
  },
  {
   "cell_type": "markdown",
   "id": "949d976f",
   "metadata": {
    "papermill": {
     "duration": 0.005176,
     "end_time": "2025-02-04T06:48:07.648096",
     "exception": false,
     "start_time": "2025-02-04T06:48:07.642920",
     "status": "completed"
    },
    "tags": []
   },
   "source": [
    "### 모델 평가"
   ]
  },
  {
   "cell_type": "code",
   "execution_count": 13,
   "id": "13bf7c30",
   "metadata": {
    "execution": {
     "iopub.execute_input": "2025-02-04T06:48:07.658998Z",
     "iopub.status.busy": "2025-02-04T06:48:07.658739Z",
     "iopub.status.idle": "2025-02-04T06:48:07.663857Z",
     "shell.execute_reply": "2025-02-04T06:48:07.663069Z"
    },
    "papermill": {
     "duration": 0.012086,
     "end_time": "2025-02-04T06:48:07.665245",
     "exception": false,
     "start_time": "2025-02-04T06:48:07.653159",
     "status": "completed"
    },
    "tags": []
   },
   "outputs": [
    {
     "data": {
      "text/plain": [
       "SimpleRNN(\n",
       "  (rnn): RNN(1, 5, batch_first=True)\n",
       "  (fc): Linear(in_features=5, out_features=1, bias=True)\n",
       ")"
      ]
     },
     "execution_count": 13,
     "metadata": {},
     "output_type": "execute_result"
    }
   ],
   "source": [
    "model.eval()"
   ]
  },
  {
   "cell_type": "code",
   "execution_count": 14,
   "id": "59fc0bd5",
   "metadata": {
    "execution": {
     "iopub.execute_input": "2025-02-04T06:48:07.678652Z",
     "iopub.status.busy": "2025-02-04T06:48:07.678383Z",
     "iopub.status.idle": "2025-02-04T06:48:07.685325Z",
     "shell.execute_reply": "2025-02-04T06:48:07.684540Z"
    },
    "papermill": {
     "duration": 0.014517,
     "end_time": "2025-02-04T06:48:07.686611",
     "exception": false,
     "start_time": "2025-02-04T06:48:07.672094",
     "status": "completed"
    },
    "tags": []
   },
   "outputs": [
    {
     "data": {
      "text/plain": [
       "(tensor([[-1.5017],\n",
       "         [-1.5133],\n",
       "         [-1.5167],\n",
       "         [-1.5180],\n",
       "         [-1.5178]]),\n",
       " tensor([[-1.6721],\n",
       "         [-1.6664],\n",
       "         [-1.6714],\n",
       "         [-1.6690],\n",
       "         [-1.6595]]))"
      ]
     },
     "execution_count": 14,
     "metadata": {},
     "output_type": "execute_result"
    }
   ],
   "source": [
    "with torch.no_grad():\n",
    "    predicted = model(features_tensor[:5])\n",
    "predicted, label_tensor[:5]"
   ]
  },
  {
   "cell_type": "code",
   "execution_count": null,
   "id": "b484ffb7",
   "metadata": {
    "papermill": {
     "duration": 0.005272,
     "end_time": "2025-02-04T06:48:07.697444",
     "exception": false,
     "start_time": "2025-02-04T06:48:07.692172",
     "status": "completed"
    },
    "tags": []
   },
   "outputs": [],
   "source": []
  }
 ],
 "metadata": {
  "kaggle": {
   "accelerator": "nvidiaTeslaT4",
   "dataSources": [
    {
     "datasetId": 4081618,
     "sourceId": 7084494,
     "sourceType": "datasetVersion"
    }
   ],
   "dockerImageVersionId": 30840,
   "isGpuEnabled": true,
   "isInternetEnabled": true,
   "language": "python",
   "sourceType": "notebook"
  },
  "kernelspec": {
   "display_name": "Python 3",
   "language": "python",
   "name": "python3"
  },
  "language_info": {
   "codemirror_mode": {
    "name": "ipython",
    "version": 3
   },
   "file_extension": ".py",
   "mimetype": "text/x-python",
   "name": "python",
   "nbconvert_exporter": "python",
   "pygments_lexer": "ipython3",
   "version": "3.10.12"
  },
  "papermill": {
   "default_parameters": {},
   "duration": 16.779987,
   "end_time": "2025-02-04T06:48:09.326405",
   "environment_variables": {},
   "exception": null,
   "input_path": "__notebook__.ipynb",
   "output_path": "__notebook__.ipynb",
   "parameters": {},
   "start_time": "2025-02-04T06:47:52.546418",
   "version": "2.6.0"
  }
 },
 "nbformat": 4,
 "nbformat_minor": 5
}
