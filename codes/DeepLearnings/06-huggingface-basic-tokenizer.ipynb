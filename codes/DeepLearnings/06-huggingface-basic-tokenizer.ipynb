{
 "cells": [
  {
   "cell_type": "code",
   "execution_count": 1,
   "id": "bdc865a6",
   "metadata": {
    "execution": {
     "iopub.execute_input": "2025-02-05T00:27:22.821608Z",
     "iopub.status.busy": "2025-02-05T00:27:22.821301Z",
     "iopub.status.idle": "2025-02-05T00:27:30.401148Z",
     "shell.execute_reply": "2025-02-05T00:27:30.400270Z"
    },
    "papermill": {
     "duration": 7.598353,
     "end_time": "2025-02-05T00:27:30.402845",
     "exception": false,
     "start_time": "2025-02-05T00:27:22.804492",
     "status": "completed"
    },
    "tags": []
   },
   "outputs": [
    {
     "name": "stdout",
     "output_type": "stream",
     "text": [
      "\u001b[2K   \u001b[90m━━━━━━━━━━━━━━━━━━━━━━━━━━━━━━━━━━━━━━━━\u001b[0m \u001b[32m179.6/179.6 kB\u001b[0m \u001b[31m4.8 MB/s\u001b[0m eta \u001b[36m0:00:00\u001b[0m\r\n",
      "\u001b[2K   \u001b[90m━━━━━━━━━━━━━━━━━━━━━━━━━━━━━━━━━━━━━━━━\u001b[0m \u001b[32m519.3/519.3 kB\u001b[0m \u001b[31m16.8 MB/s\u001b[0m eta \u001b[36m0:00:00\u001b[0m\r\n",
      "\u001b[2K   \u001b[90m━━━━━━━━━━━━━━━━━━━━━━━━━━━━━━━━━━━━━━━━\u001b[0m \u001b[32m115.3/115.3 kB\u001b[0m \u001b[31m7.1 MB/s\u001b[0m eta \u001b[36m0:00:00\u001b[0m\r\n",
      "\u001b[2K   \u001b[90m━━━━━━━━━━━━━━━━━━━━━━━━━━━━━━━━━━━━━━━━\u001b[0m \u001b[32m134.8/134.8 kB\u001b[0m \u001b[31m7.7 MB/s\u001b[0m eta \u001b[36m0:00:00\u001b[0m\r\n",
      "\u001b[?25h\u001b[31mERROR: pip's dependency resolver does not currently take into account all the packages that are installed. This behaviour is the source of the following dependency conflicts.\r\n",
      "pathos 0.3.2 requires dill>=0.3.8, but you have dill 0.3.7 which is incompatible.\r\n",
      "pathos 0.3.2 requires multiprocess>=0.70.16, but you have multiprocess 0.70.15 which is incompatible.\r\n",
      "s3fs 2024.9.0 requires fsspec==2024.9.0.*, but you have fsspec 2024.10.0 which is incompatible.\u001b[0m\u001b[31m\r\n",
      "\u001b[0m"
     ]
    }
   ],
   "source": [
    "!pip install transformers datasets huggingface_hub fsspec==2024.10.0 -qqq"
   ]
  },
  {
   "cell_type": "code",
   "execution_count": 2,
   "id": "d9b2ba6a",
   "metadata": {
    "execution": {
     "iopub.execute_input": "2025-02-05T00:27:30.435854Z",
     "iopub.status.busy": "2025-02-05T00:27:30.435614Z",
     "iopub.status.idle": "2025-02-05T00:27:30.571505Z",
     "shell.execute_reply": "2025-02-05T00:27:30.570691Z"
    },
    "papermill": {
     "duration": 0.153956,
     "end_time": "2025-02-05T00:27:30.572863",
     "exception": false,
     "start_time": "2025-02-05T00:27:30.418907",
     "status": "completed"
    },
    "tags": []
   },
   "outputs": [
    {
     "data": {
      "application/vnd.jupyter.widget-view+json": {
       "model_id": "b0983f7522674a6fb126aba2f492c749",
       "version_major": 2,
       "version_minor": 0
      },
      "text/plain": [
       "Password(description='API Key:', layout=Layout(width='500px'))"
      ]
     },
     "metadata": {},
     "output_type": "display_data"
    },
    {
     "data": {
      "application/vnd.jupyter.widget-view+json": {
       "model_id": "19482b90fb274c3aa049f53fc802959f",
       "version_major": 2,
       "version_minor": 0
      },
      "text/plain": [
       "Button(description='Submit', style=ButtonStyle())"
      ]
     },
     "metadata": {},
     "output_type": "display_data"
    },
    {
     "data": {
      "application/vnd.jupyter.widget-view+json": {
       "model_id": "0001cb3d78a941699cd3985c0c81809a",
       "version_major": 2,
       "version_minor": 0
      },
      "text/plain": [
       "Output()"
      ]
     },
     "metadata": {},
     "output_type": "display_data"
    }
   ],
   "source": [
    "from ipywidgets import widgets\n",
    "from IPython.display import display\n",
    "import time  # time 모듈 추가\n",
    "\n",
    "# 비밀번호 입력 위젯 생성\n",
    "api_key_widget = widgets.Password(\n",
    "    description='API Key:',\n",
    "    layout={'width': '500px'}\n",
    ")\n",
    "\n",
    "# 버튼 위젯 생성\n",
    "button = widgets.Button(description=\"Submit\")\n",
    "output = widgets.Output()\n",
    "\n",
    "# 버튼 클릭 이벤트 핸들러\n",
    "def on_button_clicked(b):\n",
    "    with output:\n",
    "        global api_key\n",
    "        api_key = api_key_widget.value\n",
    "        print(\"API key has been saved!\")\n",
    "\n",
    "# 버튼에 이벤트 핸들러 연결\n",
    "button.on_click(on_button_clicked)\n",
    "\n",
    "# 위젯들 표시\n",
    "display(api_key_widget, button, output)\n",
    "\n",
    "# print(f\"Using API key: {api_key}\")"
   ]
  },
  {
   "cell_type": "code",
   "execution_count": 3,
   "id": "fcc45ca1",
   "metadata": {
    "execution": {
     "iopub.execute_input": "2025-02-05T00:27:30.604018Z",
     "iopub.status.busy": "2025-02-05T00:27:30.603794Z",
     "iopub.status.idle": "2025-02-05T00:27:30.674837Z",
     "shell.execute_reply": "2025-02-05T00:27:30.673791Z"
    },
    "papermill": {
     "duration": 0.087972,
     "end_time": "2025-02-05T00:27:30.676110",
     "exception": true,
     "start_time": "2025-02-05T00:27:30.588138",
     "status": "failed"
    },
    "tags": []
   },
   "outputs": [
    {
     "ename": "NameError",
     "evalue": "name 'api_key' is not defined",
     "output_type": "error",
     "traceback": [
      "\u001b[0;31m---------------------------------------------------------------------------\u001b[0m",
      "\u001b[0;31mNameError\u001b[0m                                 Traceback (most recent call last)",
      "\u001b[0;32m<ipython-input-3-96022e9fba6f>\u001b[0m in \u001b[0;36m<cell line: 2>\u001b[0;34m()\u001b[0m\n\u001b[1;32m      1\u001b[0m \u001b[0;32mimport\u001b[0m \u001b[0mos\u001b[0m\u001b[0;34m\u001b[0m\u001b[0;34m\u001b[0m\u001b[0m\n\u001b[0;32m----> 2\u001b[0;31m \u001b[0mos\u001b[0m\u001b[0;34m.\u001b[0m\u001b[0menviron\u001b[0m\u001b[0;34m[\u001b[0m\u001b[0;34m\"HF_TOKEN\"\u001b[0m\u001b[0;34m]\u001b[0m \u001b[0;34m=\u001b[0m \u001b[0mapi_key\u001b[0m\u001b[0;34m\u001b[0m\u001b[0;34m\u001b[0m\u001b[0m\n\u001b[0m",
      "\u001b[0;31mNameError\u001b[0m: name 'api_key' is not defined"
     ]
    }
   ],
   "source": [
    "import os\n",
    "os.environ[\"HF_TOKEN\"] = api_key"
   ]
  },
  {
   "cell_type": "markdown",
   "id": "f57ace93",
   "metadata": {
    "papermill": {
     "duration": null,
     "end_time": null,
     "exception": null,
     "start_time": null,
     "status": "pending"
    },
    "tags": []
   },
   "source": [
    "## Huggingface tokenizer\n",
    "- decode\n",
    "- encode\n",
    "- convert"
   ]
  },
  {
   "cell_type": "code",
   "execution_count": null,
   "id": "ee186881",
   "metadata": {
    "execution": {
     "iopub.execute_input": "2025-02-04T08:11:26.694007Z",
     "iopub.status.busy": "2025-02-04T08:11:26.693691Z",
     "iopub.status.idle": "2025-02-04T08:11:26.781787Z",
     "shell.execute_reply": "2025-02-04T08:11:26.781154Z",
     "shell.execute_reply.started": "2025-02-04T08:11:26.693985Z"
    },
    "papermill": {
     "duration": null,
     "end_time": null,
     "exception": null,
     "start_time": null,
     "status": "pending"
    },
    "tags": []
   },
   "outputs": [],
   "source": [
    "# Load model directly\n",
    "from transformers import AutoTokenizer, AutoModelForMaskedLM\n",
    "\n",
    "roberta_tokenizer = AutoTokenizer.from_pretrained(\"klue/roberta-base\")\n",
    "# model = AutoModelForMaskedLM.from_pretrained(\"klue/roberta-base\")"
   ]
  },
  {
   "cell_type": "code",
   "execution_count": null,
   "id": "c79a0395",
   "metadata": {
    "execution": {
     "iopub.execute_input": "2025-02-04T08:11:29.217104Z",
     "iopub.status.busy": "2025-02-04T08:11:29.216713Z",
     "iopub.status.idle": "2025-02-04T08:11:29.222616Z",
     "shell.execute_reply": "2025-02-04T08:11:29.221723Z",
     "shell.execute_reply.started": "2025-02-04T08:11:29.217077Z"
    },
    "papermill": {
     "duration": null,
     "end_time": null,
     "exception": null,
     "start_time": null,
     "status": "pending"
    },
    "tags": []
   },
   "outputs": [],
   "source": [
    "type(roberta_tokenizer), roberta_tokenizer"
   ]
  },
  {
   "cell_type": "markdown",
   "id": "6a597b95",
   "metadata": {
    "papermill": {
     "duration": null,
     "end_time": null,
     "exception": null,
     "start_time": null,
     "status": "pending"
    },
    "tags": []
   },
   "source": [
    "### 한 문장 다룰때"
   ]
  },
  {
   "cell_type": "code",
   "execution_count": null,
   "id": "ec81093d",
   "metadata": {
    "execution": {
     "iopub.execute_input": "2025-02-04T08:34:53.405017Z",
     "iopub.status.busy": "2025-02-04T08:34:53.404650Z",
     "iopub.status.idle": "2025-02-04T08:34:53.411034Z",
     "shell.execute_reply": "2025-02-04T08:34:53.410218Z",
     "shell.execute_reply.started": "2025-02-04T08:34:53.404989Z"
    },
    "papermill": {
     "duration": null,
     "end_time": null,
     "exception": null,
     "start_time": null,
     "status": "pending"
    },
    "tags": []
   },
   "outputs": [],
   "source": [
    "text = f'토크나이저는 텍스트를 사전에 있는 기준으로 토큰 단위로 나눔?'\n",
    "# tokenized_text = roberta_tokenizer(text) # encode \n",
    "# tokenized_text = roberta_tokenizer.encode(text)\n",
    "tokenized_text = roberta_tokenizer.encode(text, add_special_tokens=False)\n",
    "tokenized_text"
   ]
  },
  {
   "cell_type": "code",
   "execution_count": null,
   "id": "d5e44415",
   "metadata": {
    "execution": {
     "iopub.execute_input": "2025-02-04T08:18:10.551416Z",
     "iopub.status.busy": "2025-02-04T08:18:10.551131Z",
     "iopub.status.idle": "2025-02-04T08:18:10.556754Z",
     "shell.execute_reply": "2025-02-04T08:18:10.556055Z",
     "shell.execute_reply.started": "2025-02-04T08:18:10.551396Z"
    },
    "papermill": {
     "duration": null,
     "end_time": null,
     "exception": null,
     "start_time": null,
     "status": "pending"
    },
    "tags": []
   },
   "outputs": [],
   "source": [
    "roberta_tokenizer.convert_ids_to_tokens(tokenized_text['input_ids'])"
   ]
  },
  {
   "cell_type": "code",
   "execution_count": null,
   "id": "7c90deca",
   "metadata": {
    "execution": {
     "iopub.execute_input": "2025-02-04T08:32:01.793405Z",
     "iopub.status.busy": "2025-02-04T08:32:01.793083Z",
     "iopub.status.idle": "2025-02-04T08:32:01.799049Z",
     "shell.execute_reply": "2025-02-04T08:32:01.798220Z",
     "shell.execute_reply.started": "2025-02-04T08:32:01.793383Z"
    },
    "papermill": {
     "duration": null,
     "end_time": null,
     "exception": null,
     "start_time": null,
     "status": "pending"
    },
    "tags": []
   },
   "outputs": [],
   "source": [
    "roberta_tokenizer.decode(tokenized_text['input_ids'], skip_special_tokens=True)"
   ]
  },
  {
   "cell_type": "markdown",
   "id": "dcf588b8",
   "metadata": {
    "papermill": {
     "duration": null,
     "end_time": null,
     "exception": null,
     "start_time": null,
     "status": "pending"
    },
    "tags": []
   },
   "source": [
    "### 여러 문장 변경"
   ]
  },
  {
   "cell_type": "code",
   "execution_count": null,
   "id": "a5a4bbf2",
   "metadata": {
    "execution": {
     "iopub.execute_input": "2025-02-04T08:38:24.983184Z",
     "iopub.status.busy": "2025-02-04T08:38:24.982880Z",
     "iopub.status.idle": "2025-02-04T08:38:24.988874Z",
     "shell.execute_reply": "2025-02-04T08:38:24.988168Z",
     "shell.execute_reply.started": "2025-02-04T08:38:24.983161Z"
    },
    "papermill": {
     "duration": null,
     "end_time": null,
     "exception": null,
     "start_time": null,
     "status": "pending"
    },
    "tags": []
   },
   "outputs": [],
   "source": [
    "texts = ['첫번째 문장 넣기', '두 번째 문장 작성 넣기']\n",
    "\n",
    "tokenized_texts = roberta_tokenizer(texts)\n",
    "tokenized_texts"
   ]
  },
  {
   "cell_type": "code",
   "execution_count": null,
   "id": "9840d7ac",
   "metadata": {
    "execution": {
     "iopub.execute_input": "2025-02-04T08:39:52.207306Z",
     "iopub.status.busy": "2025-02-04T08:39:52.207015Z",
     "iopub.status.idle": "2025-02-04T08:39:52.213061Z",
     "shell.execute_reply": "2025-02-04T08:39:52.212188Z",
     "shell.execute_reply.started": "2025-02-04T08:39:52.207283Z"
    },
    "papermill": {
     "duration": null,
     "end_time": null,
     "exception": null,
     "start_time": null,
     "status": "pending"
    },
    "tags": []
   },
   "outputs": [],
   "source": [
    "roberta_tokenizer.batch_decode(tokenized_texts['input_ids'], skip_special_tokens=True)"
   ]
  },
  {
   "cell_type": "markdown",
   "id": "13efd08d",
   "metadata": {
    "papermill": {
     "duration": null,
     "end_time": null,
     "exception": null,
     "start_time": null,
     "status": "pending"
    },
    "tags": []
   },
   "source": [
    "## 모델별 별도 토큰이 필요한 이유 "
   ]
  },
  {
   "cell_type": "code",
   "execution_count": null,
   "id": "9df11884",
   "metadata": {
    "execution": {
     "iopub.execute_input": "2025-02-04T08:46:03.178748Z",
     "iopub.status.busy": "2025-02-04T08:46:03.178446Z",
     "iopub.status.idle": "2025-02-04T08:46:05.252992Z",
     "shell.execute_reply": "2025-02-04T08:46:05.252058Z",
     "shell.execute_reply.started": "2025-02-04T08:46:03.178726Z"
    },
    "papermill": {
     "duration": null,
     "end_time": null,
     "exception": null,
     "start_time": null,
     "status": "pending"
    },
    "tags": []
   },
   "outputs": [],
   "source": [
    "tokenizer_bert = AutoTokenizer.from_pretrained(\"klue/bert-base\")\n",
    "tokenizer_roverta_base = AutoTokenizer.from_pretrained(\"klue/roberta-base\")\n",
    "tokenizer_roverta_eng = AutoTokenizer.from_pretrained(\"roberta-base\")"
   ]
  },
  {
   "cell_type": "code",
   "execution_count": null,
   "id": "d3800043",
   "metadata": {
    "execution": {
     "iopub.execute_input": "2025-02-04T08:47:03.004235Z",
     "iopub.status.busy": "2025-02-04T08:47:03.003892Z",
     "iopub.status.idle": "2025-02-04T08:47:03.012187Z",
     "shell.execute_reply": "2025-02-04T08:47:03.011339Z",
     "shell.execute_reply.started": "2025-02-04T08:47:03.004211Z"
    },
    "papermill": {
     "duration": null,
     "end_time": null,
     "exception": null,
     "start_time": null,
     "status": "pending"
    },
    "tags": []
   },
   "outputs": [],
   "source": [
    "tokenized_text_bert = tokenizer_bert(text) # encode \n",
    "tokenized_text_base = tokenizer_roverta_base(text) # encode \n",
    "tokenized_text_eng = tokenizer_roverta_eng(text) # encode "
   ]
  },
  {
   "cell_type": "code",
   "execution_count": null,
   "id": "80a1e68d",
   "metadata": {
    "execution": {
     "iopub.execute_input": "2025-02-04T08:47:14.788968Z",
     "iopub.status.busy": "2025-02-04T08:47:14.788579Z",
     "iopub.status.idle": "2025-02-04T08:47:14.794299Z",
     "shell.execute_reply": "2025-02-04T08:47:14.793443Z",
     "shell.execute_reply.started": "2025-02-04T08:47:14.788940Z"
    },
    "papermill": {
     "duration": null,
     "end_time": null,
     "exception": null,
     "start_time": null,
     "status": "pending"
    },
    "tags": []
   },
   "outputs": [],
   "source": [
    "tokenized_text_bert"
   ]
  },
  {
   "cell_type": "code",
   "execution_count": null,
   "id": "4a19e6c1",
   "metadata": {
    "execution": {
     "iopub.execute_input": "2025-02-04T08:47:16.595588Z",
     "iopub.status.busy": "2025-02-04T08:47:16.595292Z",
     "iopub.status.idle": "2025-02-04T08:47:16.600932Z",
     "shell.execute_reply": "2025-02-04T08:47:16.600047Z",
     "shell.execute_reply.started": "2025-02-04T08:47:16.595565Z"
    },
    "papermill": {
     "duration": null,
     "end_time": null,
     "exception": null,
     "start_time": null,
     "status": "pending"
    },
    "tags": []
   },
   "outputs": [],
   "source": [
    "tokenized_text_base"
   ]
  },
  {
   "cell_type": "code",
   "execution_count": null,
   "id": "ceb985ec",
   "metadata": {
    "execution": {
     "iopub.execute_input": "2025-02-04T08:47:18.555080Z",
     "iopub.status.busy": "2025-02-04T08:47:18.554724Z",
     "iopub.status.idle": "2025-02-04T08:47:18.560237Z",
     "shell.execute_reply": "2025-02-04T08:47:18.559416Z",
     "shell.execute_reply.started": "2025-02-04T08:47:18.555056Z"
    },
    "papermill": {
     "duration": null,
     "end_time": null,
     "exception": null,
     "start_time": null,
     "status": "pending"
    },
    "tags": []
   },
   "outputs": [],
   "source": [
    "tokenized_text_eng"
   ]
  },
  {
   "cell_type": "code",
   "execution_count": null,
   "id": "a82e38cf",
   "metadata": {
    "execution": {
     "iopub.execute_input": "2025-02-04T08:47:48.421004Z",
     "iopub.status.busy": "2025-02-04T08:47:48.420671Z",
     "iopub.status.idle": "2025-02-04T08:47:48.426635Z",
     "shell.execute_reply": "2025-02-04T08:47:48.425850Z",
     "shell.execute_reply.started": "2025-02-04T08:47:48.420978Z"
    },
    "papermill": {
     "duration": null,
     "end_time": null,
     "exception": null,
     "start_time": null,
     "status": "pending"
    },
    "tags": []
   },
   "outputs": [],
   "source": [
    "tokenizer_bert.convert_ids_to_tokens(tokenized_text_bert['input_ids'])"
   ]
  },
  {
   "cell_type": "code",
   "execution_count": null,
   "id": "9fe2c6ae",
   "metadata": {
    "execution": {
     "iopub.execute_input": "2025-02-04T08:48:27.407750Z",
     "iopub.status.busy": "2025-02-04T08:48:27.407418Z",
     "iopub.status.idle": "2025-02-04T08:48:27.412939Z",
     "shell.execute_reply": "2025-02-04T08:48:27.412210Z",
     "shell.execute_reply.started": "2025-02-04T08:48:27.407720Z"
    },
    "papermill": {
     "duration": null,
     "end_time": null,
     "exception": null,
     "start_time": null,
     "status": "pending"
    },
    "tags": []
   },
   "outputs": [],
   "source": [
    "tokenizer_roverta_base.convert_ids_to_tokens(tokenized_text_base['input_ids'])"
   ]
  },
  {
   "cell_type": "code",
   "execution_count": null,
   "id": "fa07efe9",
   "metadata": {
    "execution": {
     "iopub.execute_input": "2025-02-04T08:49:13.837314Z",
     "iopub.status.busy": "2025-02-04T08:49:13.836982Z",
     "iopub.status.idle": "2025-02-04T08:49:13.843859Z",
     "shell.execute_reply": "2025-02-04T08:49:13.842933Z",
     "shell.execute_reply.started": "2025-02-04T08:49:13.837288Z"
    },
    "papermill": {
     "duration": null,
     "end_time": null,
     "exception": null,
     "start_time": null,
     "status": "pending"
    },
    "tags": []
   },
   "outputs": [],
   "source": [
    "tokenizer_roverta_eng.convert_ids_to_tokens(tokenized_text_eng['input_ids'])"
   ]
  }
 ],
 "metadata": {
  "kaggle": {
   "accelerator": "nvidiaTeslaT4",
   "dataSources": [],
   "dockerImageVersionId": 30840,
   "isGpuEnabled": true,
   "isInternetEnabled": true,
   "language": "python",
   "sourceType": "notebook"
  },
  "kernelspec": {
   "display_name": "Python 3",
   "language": "python",
   "name": "python3"
  },
  "language_info": {
   "codemirror_mode": {
    "name": "ipython",
    "version": 3
   },
   "file_extension": ".py",
   "mimetype": "text/x-python",
   "name": "python",
   "nbconvert_exporter": "python",
   "pygments_lexer": "ipython3",
   "version": "3.10.12"
  },
  "papermill": {
   "default_parameters": {},
   "duration": 10.800452,
   "end_time": "2025-02-05T00:27:31.007667",
   "environment_variables": {},
   "exception": true,
   "input_path": "__notebook__.ipynb",
   "output_path": "__notebook__.ipynb",
   "parameters": {},
   "start_time": "2025-02-05T00:27:20.207215",
   "version": "2.6.0"
  },
  "widgets": {
   "application/vnd.jupyter.widget-state+json": {
    "state": {
     "0001cb3d78a941699cd3985c0c81809a": {
      "model_module": "@jupyter-widgets/output",
      "model_module_version": "1.0.0",
      "model_name": "OutputModel",
      "state": {
       "_dom_classes": [],
       "_model_module": "@jupyter-widgets/output",
       "_model_module_version": "1.0.0",
       "_model_name": "OutputModel",
       "_view_count": null,
       "_view_module": "@jupyter-widgets/output",
       "_view_module_version": "1.0.0",
       "_view_name": "OutputView",
       "layout": "IPY_MODEL_18549585525f4d0682cf2ae1521c9055",
       "msg_id": "",
       "outputs": [],
       "tabbable": null,
       "tooltip": null
      }
     },
     "03e437d34a3c4bc1be91ddd5fb6ad067": {
      "model_module": "@jupyter-widgets/base",
      "model_module_version": "2.0.0",
      "model_name": "LayoutModel",
      "state": {
       "_model_module": "@jupyter-widgets/base",
       "_model_module_version": "2.0.0",
       "_model_name": "LayoutModel",
       "_view_count": null,
       "_view_module": "@jupyter-widgets/base",
       "_view_module_version": "2.0.0",
       "_view_name": "LayoutView",
       "align_content": null,
       "align_items": null,
       "align_self": null,
       "border_bottom": null,
       "border_left": null,
       "border_right": null,
       "border_top": null,
       "bottom": null,
       "display": null,
       "flex": null,
       "flex_flow": null,
       "grid_area": null,
       "grid_auto_columns": null,
       "grid_auto_flow": null,
       "grid_auto_rows": null,
       "grid_column": null,
       "grid_gap": null,
       "grid_row": null,
       "grid_template_areas": null,
       "grid_template_columns": null,
       "grid_template_rows": null,
       "height": null,
       "justify_content": null,
       "justify_items": null,
       "left": null,
       "margin": null,
       "max_height": null,
       "max_width": null,
       "min_height": null,
       "min_width": null,
       "object_fit": null,
       "object_position": null,
       "order": null,
       "overflow": null,
       "padding": null,
       "right": null,
       "top": null,
       "visibility": null,
       "width": "500px"
      }
     },
     "18549585525f4d0682cf2ae1521c9055": {
      "model_module": "@jupyter-widgets/base",
      "model_module_version": "2.0.0",
      "model_name": "LayoutModel",
      "state": {
       "_model_module": "@jupyter-widgets/base",
       "_model_module_version": "2.0.0",
       "_model_name": "LayoutModel",
       "_view_count": null,
       "_view_module": "@jupyter-widgets/base",
       "_view_module_version": "2.0.0",
       "_view_name": "LayoutView",
       "align_content": null,
       "align_items": null,
       "align_self": null,
       "border_bottom": null,
       "border_left": null,
       "border_right": null,
       "border_top": null,
       "bottom": null,
       "display": null,
       "flex": null,
       "flex_flow": null,
       "grid_area": null,
       "grid_auto_columns": null,
       "grid_auto_flow": null,
       "grid_auto_rows": null,
       "grid_column": null,
       "grid_gap": null,
       "grid_row": null,
       "grid_template_areas": null,
       "grid_template_columns": null,
       "grid_template_rows": null,
       "height": null,
       "justify_content": null,
       "justify_items": null,
       "left": null,
       "margin": null,
       "max_height": null,
       "max_width": null,
       "min_height": null,
       "min_width": null,
       "object_fit": null,
       "object_position": null,
       "order": null,
       "overflow": null,
       "padding": null,
       "right": null,
       "top": null,
       "visibility": null,
       "width": null
      }
     },
     "19482b90fb274c3aa049f53fc802959f": {
      "model_module": "@jupyter-widgets/controls",
      "model_module_version": "2.0.0",
      "model_name": "ButtonModel",
      "state": {
       "_dom_classes": [],
       "_model_module": "@jupyter-widgets/controls",
       "_model_module_version": "2.0.0",
       "_model_name": "ButtonModel",
       "_view_count": null,
       "_view_module": "@jupyter-widgets/controls",
       "_view_module_version": "2.0.0",
       "_view_name": "ButtonView",
       "button_style": "",
       "description": "Submit",
       "disabled": false,
       "icon": "",
       "layout": "IPY_MODEL_600de64113804e8b9f3521c174e022b1",
       "style": "IPY_MODEL_d471bd0728994929bd50c936ed07b982",
       "tabbable": null,
       "tooltip": null
      }
     },
     "600de64113804e8b9f3521c174e022b1": {
      "model_module": "@jupyter-widgets/base",
      "model_module_version": "2.0.0",
      "model_name": "LayoutModel",
      "state": {
       "_model_module": "@jupyter-widgets/base",
       "_model_module_version": "2.0.0",
       "_model_name": "LayoutModel",
       "_view_count": null,
       "_view_module": "@jupyter-widgets/base",
       "_view_module_version": "2.0.0",
       "_view_name": "LayoutView",
       "align_content": null,
       "align_items": null,
       "align_self": null,
       "border_bottom": null,
       "border_left": null,
       "border_right": null,
       "border_top": null,
       "bottom": null,
       "display": null,
       "flex": null,
       "flex_flow": null,
       "grid_area": null,
       "grid_auto_columns": null,
       "grid_auto_flow": null,
       "grid_auto_rows": null,
       "grid_column": null,
       "grid_gap": null,
       "grid_row": null,
       "grid_template_areas": null,
       "grid_template_columns": null,
       "grid_template_rows": null,
       "height": null,
       "justify_content": null,
       "justify_items": null,
       "left": null,
       "margin": null,
       "max_height": null,
       "max_width": null,
       "min_height": null,
       "min_width": null,
       "object_fit": null,
       "object_position": null,
       "order": null,
       "overflow": null,
       "padding": null,
       "right": null,
       "top": null,
       "visibility": null,
       "width": null
      }
     },
     "a7cbf40bcaf8484fbd87a98a55de1126": {
      "model_module": "@jupyter-widgets/controls",
      "model_module_version": "2.0.0",
      "model_name": "TextStyleModel",
      "state": {
       "_model_module": "@jupyter-widgets/controls",
       "_model_module_version": "2.0.0",
       "_model_name": "TextStyleModel",
       "_view_count": null,
       "_view_module": "@jupyter-widgets/base",
       "_view_module_version": "2.0.0",
       "_view_name": "StyleView",
       "background": null,
       "description_width": "",
       "font_size": null,
       "text_color": null
      }
     },
     "b0983f7522674a6fb126aba2f492c749": {
      "model_module": "@jupyter-widgets/controls",
      "model_module_version": "2.0.0",
      "model_name": "PasswordModel",
      "state": {
       "_dom_classes": [],
       "_model_module": "@jupyter-widgets/controls",
       "_model_module_version": "2.0.0",
       "_model_name": "PasswordModel",
       "_view_count": null,
       "_view_module": "@jupyter-widgets/controls",
       "_view_module_version": "2.0.0",
       "_view_name": "PasswordView",
       "continuous_update": true,
       "description": "API Key:",
       "description_allow_html": false,
       "disabled": false,
       "layout": "IPY_MODEL_03e437d34a3c4bc1be91ddd5fb6ad067",
       "placeholder": "​",
       "style": "IPY_MODEL_a7cbf40bcaf8484fbd87a98a55de1126",
       "tabbable": null,
       "tooltip": null,
       "value": ""
      }
     },
     "d471bd0728994929bd50c936ed07b982": {
      "model_module": "@jupyter-widgets/controls",
      "model_module_version": "2.0.0",
      "model_name": "ButtonStyleModel",
      "state": {
       "_model_module": "@jupyter-widgets/controls",
       "_model_module_version": "2.0.0",
       "_model_name": "ButtonStyleModel",
       "_view_count": null,
       "_view_module": "@jupyter-widgets/base",
       "_view_module_version": "2.0.0",
       "_view_name": "StyleView",
       "button_color": null,
       "font_family": null,
       "font_size": null,
       "font_style": null,
       "font_variant": null,
       "font_weight": null,
       "text_color": null,
       "text_decoration": null
      }
     }
    },
    "version_major": 2,
    "version_minor": 0
   }
  }
 },
 "nbformat": 4,
 "nbformat_minor": 5
}
