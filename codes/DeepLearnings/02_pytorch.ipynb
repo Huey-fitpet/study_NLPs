{
  "nbformat": 4,
  "nbformat_minor": 0,
  "metadata": {
    "colab": {
      "provenance": [],
      "gpuType": "T4",
      "authorship_tag": "ABX9TyMpwvogI4mgPTum31DMyABD",
      "include_colab_link": true
    },
    "kernelspec": {
      "name": "python3",
      "display_name": "Python 3"
    },
    "language_info": {
      "name": "python"
    },
    "accelerator": "GPU"
  },
  "cells": [
    {
      "cell_type": "markdown",
      "metadata": {
        "id": "view-in-github",
        "colab_type": "text"
      },
      "source": [
        "<a href=\"https://colab.research.google.com/github/HueyVault/study_NLPs/blob/main/codes/DeepLearnings/02_pytorch.ipynb\" target=\"_parent\"><img src=\"https://colab.research.google.com/assets/colab-badge.svg\" alt=\"Open In Colab\"/></a>"
      ]
    },
    {
      "cell_type": "markdown",
      "source": [
        "### pytorch 기본"
      ],
      "metadata": {
        "id": "NtkpxapL_tvg"
      }
    },
    {
      "cell_type": "code",
      "execution_count": 2,
      "metadata": {
        "id": "ngdbQbEp_m6O"
      },
      "outputs": [],
      "source": [
        "import torch"
      ]
    },
    {
      "cell_type": "code",
      "source": [
        "torch.device('cuda:0')"
      ],
      "metadata": {
        "colab": {
          "base_uri": "https://localhost:8080/"
        },
        "id": "TrIehaMV_0hx",
        "outputId": "84d5569c-908c-431a-c7d7-9a8e271e459e"
      },
      "execution_count": 12,
      "outputs": [
        {
          "output_type": "execute_result",
          "data": {
            "text/plain": [
              "device(type='cuda', index=0)"
            ]
          },
          "metadata": {},
          "execution_count": 12
        }
      ]
    },
    {
      "cell_type": "markdown",
      "source": [
        "#### torch 주요 datatype"
      ],
      "metadata": {
        "id": "RI8AUa8uBH4w"
      }
    },
    {
      "cell_type": "code",
      "source": [
        "x = torch.randn((10,5)) # 표준 정규 분포 N(0,1) sampling\n",
        "x"
      ],
      "metadata": {
        "colab": {
          "base_uri": "https://localhost:8080/"
        },
        "id": "8aNXVNXPArUh",
        "outputId": "0830618f-466e-42c8-b5df-77131bf9f0e5"
      },
      "execution_count": 13,
      "outputs": [
        {
          "output_type": "execute_result",
          "data": {
            "text/plain": [
              "tensor([[ 0.9044,  0.0245, -0.9392,  0.6500, -0.3296],\n",
              "        [ 0.1819,  1.4377,  1.5246,  0.2665, -0.5444],\n",
              "        [-1.0197, -0.8479,  0.4081,  1.8716, -0.1577],\n",
              "        [-0.1318,  0.1025,  0.8185,  1.2870,  0.0825],\n",
              "        [ 1.6147,  0.9508, -1.0703,  0.0133, -0.4046],\n",
              "        [ 0.6940,  1.0002,  1.0462, -0.3869,  0.1391],\n",
              "        [ 0.2938,  0.2125, -1.1288,  0.8573,  1.6193],\n",
              "        [-0.7602,  0.3160, -1.2647, -0.1536, -0.0224],\n",
              "        [-0.9714, -1.4186,  0.1515,  1.2175,  1.1716],\n",
              "        [ 0.1532,  0.6679,  0.0919,  1.8284, -0.5135]])"
            ]
          },
          "metadata": {},
          "execution_count": 13
        }
      ]
    },
    {
      "cell_type": "code",
      "source": [
        "type(x), x.dtype, x.shape, x.device, x.size() # 항상 float으로, #device(type='cpu') CPU DRAM 사용중"
      ],
      "metadata": {
        "colab": {
          "base_uri": "https://localhost:8080/"
        },
        "id": "Gcgtdw03BZ8A",
        "outputId": "17ff6d1d-0209-4861-d1f3-86270b8a0bd9"
      },
      "execution_count": 14,
      "outputs": [
        {
          "output_type": "execute_result",
          "data": {
            "text/plain": [
              "(torch.Tensor,\n",
              " torch.float32,\n",
              " torch.Size([10, 5]),\n",
              " device(type='cpu'),\n",
              " torch.Size([10, 5]))"
            ]
          },
          "metadata": {},
          "execution_count": 14
        }
      ]
    },
    {
      "cell_type": "code",
      "source": [
        "x[0]"
      ],
      "metadata": {
        "colab": {
          "base_uri": "https://localhost:8080/"
        },
        "id": "q10IF7g3B2Aa",
        "outputId": "709a2b94-1a05-466c-b7ec-d0d4c09aa583"
      },
      "execution_count": 15,
      "outputs": [
        {
          "output_type": "execute_result",
          "data": {
            "text/plain": [
              "tensor([ 0.9044,  0.0245, -0.9392,  0.6500, -0.3296])"
            ]
          },
          "metadata": {},
          "execution_count": 15
        }
      ]
    },
    {
      "cell_type": "code",
      "source": [
        "# gpu인 cuda 사용\n",
        "x_cuda = x.to('cuda') # GPU HBM 영역으로 변경 , device='cuda:0')\n",
        "x_cuda"
      ],
      "metadata": {
        "colab": {
          "base_uri": "https://localhost:8080/"
        },
        "id": "koe1_oiHCOlA",
        "outputId": "f71c8ec5-0d04-4628-876f-da5eabc16cc6"
      },
      "execution_count": 16,
      "outputs": [
        {
          "output_type": "execute_result",
          "data": {
            "text/plain": [
              "tensor([[ 0.9044,  0.0245, -0.9392,  0.6500, -0.3296],\n",
              "        [ 0.1819,  1.4377,  1.5246,  0.2665, -0.5444],\n",
              "        [-1.0197, -0.8479,  0.4081,  1.8716, -0.1577],\n",
              "        [-0.1318,  0.1025,  0.8185,  1.2870,  0.0825],\n",
              "        [ 1.6147,  0.9508, -1.0703,  0.0133, -0.4046],\n",
              "        [ 0.6940,  1.0002,  1.0462, -0.3869,  0.1391],\n",
              "        [ 0.2938,  0.2125, -1.1288,  0.8573,  1.6193],\n",
              "        [-0.7602,  0.3160, -1.2647, -0.1536, -0.0224],\n",
              "        [-0.9714, -1.4186,  0.1515,  1.2175,  1.1716],\n",
              "        [ 0.1532,  0.6679,  0.0919,  1.8284, -0.5135]], device='cuda:0')"
            ]
          },
          "metadata": {},
          "execution_count": 16
        }
      ]
    },
    {
      "cell_type": "code",
      "source": [
        "type(x_cuda), x_cuda.dtype, x_cuda.shape, x_cuda.device # device(type='cuda', index=0))"
      ],
      "metadata": {
        "colab": {
          "base_uri": "https://localhost:8080/"
        },
        "id": "dEgXUd4JC79B",
        "outputId": "8853b865-7aef-4814-e09b-1ff5e39ebe07"
      },
      "execution_count": 17,
      "outputs": [
        {
          "output_type": "execute_result",
          "data": {
            "text/plain": [
              "(torch.Tensor,\n",
              " torch.float32,\n",
              " torch.Size([10, 5]),\n",
              " device(type='cuda', index=0))"
            ]
          },
          "metadata": {},
          "execution_count": 17
        }
      ]
    },
    {
      "cell_type": "code",
      "source": [
        "# x + x_cuda # RuntimeError: Expected all tensors to be on the same device, but found at least two devices, cuda:0 and cpu!\n",
        "x.cuda() + x_cuda"
      ],
      "metadata": {
        "colab": {
          "base_uri": "https://localhost:8080/"
        },
        "id": "_gMqP9SJDMHA",
        "outputId": "510ab3ec-0b07-44ca-90ef-dc1ee5aadd79"
      },
      "execution_count": 19,
      "outputs": [
        {
          "output_type": "execute_result",
          "data": {
            "text/plain": [
              "tensor([[ 1.8088,  0.0490, -1.8785,  1.3001, -0.6592],\n",
              "        [ 0.3638,  2.8755,  3.0491,  0.5331, -1.0889],\n",
              "        [-2.0393, -1.6958,  0.8162,  3.7432, -0.3154],\n",
              "        [-0.2636,  0.2050,  1.6369,  2.5741,  0.1651],\n",
              "        [ 3.2294,  1.9016, -2.1405,  0.0266, -0.8091],\n",
              "        [ 1.3880,  2.0003,  2.0925, -0.7738,  0.2782],\n",
              "        [ 0.5877,  0.4249, -2.2575,  1.7145,  3.2386],\n",
              "        [-1.5205,  0.6320, -2.5294, -0.3072, -0.0448],\n",
              "        [-1.9428, -2.8373,  0.3030,  2.4349,  2.3432],\n",
              "        [ 0.3064,  1.3358,  0.1838,  3.6568, -1.0269]], device='cuda:0')"
            ]
          },
          "metadata": {},
          "execution_count": 19
        }
      ]
    },
    {
      "cell_type": "code",
      "source": [
        "x_cuda.T.shape # 행 열 변환"
      ],
      "metadata": {
        "colab": {
          "base_uri": "https://localhost:8080/"
        },
        "id": "AlticLFgDOSg",
        "outputId": "b97ea6dc-130c-4792-ce4f-7306ecc7f5aa"
      },
      "execution_count": 20,
      "outputs": [
        {
          "output_type": "execute_result",
          "data": {
            "text/plain": [
              "torch.Size([5, 10])"
            ]
          },
          "metadata": {},
          "execution_count": 20
        }
      ]
    },
    {
      "cell_type": "code",
      "source": [
        "x_temp = x_cuda @ x_cuda.T # [10,5] @ [5,10] = [10,10]\n",
        "x_temp, x_temp.shape"
      ],
      "metadata": {
        "colab": {
          "base_uri": "https://localhost:8080/"
        },
        "id": "NypF4vUwD0zS",
        "outputId": "4d4e9839-9003-4f18-8d48-9f195b827965"
      },
      "execution_count": 21,
      "outputs": [
        {
          "output_type": "execute_result",
          "data": {
            "text/plain": [
              "(tensor([[ 2.2319, -0.8795, -0.0577, -0.0760,  2.6309, -0.6278,  1.3546,  0.4156,\n",
              "          -0.6504,  1.4264],\n",
              "         [-0.8795,  4.7919, -0.1976,  1.6693,  0.2528,  2.9804, -2.0151, -1.6408,\n",
              "          -2.2987,  1.8951],\n",
              "         [-0.0577, -0.1976,  5.4531,  2.7773, -2.8007, -1.8748,  0.4087, -0.2928,\n",
              "           4.3491,  2.8181],\n",
              "         [-0.0760,  1.6693,  2.7773,  2.3610, -1.0076,  0.3809,  0.2962, -1.1021,\n",
              "           1.7702,  2.4343],\n",
              "         [ 2.6309,  0.2528, -2.8007, -1.0076,  4.8206,  0.8903,  1.2408,  0.4334,\n",
              "          -3.5373,  1.0161],\n",
              "         [-0.6278,  2.9804, -1.8748,  0.3809,  0.8903,  2.7456, -0.8710, -1.4784,\n",
              "          -2.2425,  0.0916],\n",
              "         [ 1.3546, -2.0151,  0.4087,  0.2962,  1.2408, -0.8710,  4.7626,  1.1034,\n",
              "           2.1830,  0.8192],\n",
              "         [ 0.4156, -1.6408, -0.2928, -1.1021,  0.4334, -1.4784,  1.1034,  2.3014,\n",
              "          -0.1146, -0.2909],\n",
              "         [-0.6504, -2.2987,  4.3491,  1.7702, -3.5373, -2.2425,  2.1830, -0.1146,\n",
              "           5.8340,  0.5420],\n",
              "         [ 1.4264,  1.8951,  2.8181,  2.4343,  1.0161,  0.0916,  0.8192, -0.2909,\n",
              "           0.5420,  4.0848]], device='cuda:0'),\n",
              " torch.Size([10, 10]))"
            ]
          },
          "metadata": {},
          "execution_count": 21
        }
      ]
    },
    {
      "cell_type": "code",
      "source": [],
      "metadata": {
        "id": "O5wRaqN7FRNZ"
      },
      "execution_count": null,
      "outputs": []
    }
  ]
}