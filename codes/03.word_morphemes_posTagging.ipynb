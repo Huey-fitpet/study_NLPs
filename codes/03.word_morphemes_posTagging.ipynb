{
 "cells": [
  {
   "cell_type": "markdown",
   "metadata": {},
   "source": [
    "## 품사달기\n",
    "- https://konlpy.org/ko/stable/api/konlpy.tag/"
   ]
  },
  {
   "cell_type": "code",
   "execution_count": 3,
   "metadata": {},
   "outputs": [],
   "source": [
    "sentence_list = ['아버지가방에들어가신다'\n",
    "                ,'나는 밥을 먹는다.'\n",
    "                , '하늘을 나는 자동차'\n",
    "                , '아이폰 기다리다 지쳐 애플공홈에서 언락폰질러버렸다 6+ 128기가실버ㅋ' ]"
   ]
  },
  {
   "cell_type": "markdown",
   "metadata": {},
   "source": [
    "### Okt"
   ]
  },
  {
   "cell_type": "code",
   "execution_count": 5,
   "metadata": {},
   "outputs": [],
   "source": [
    "from konlpy.tag import Okt\n",
    "okt = Okt()"
   ]
  },
  {
   "cell_type": "code",
   "execution_count": 7,
   "metadata": {},
   "outputs": [
    {
     "data": {
      "text/plain": [
       "['아버지', '가방', '에', '들어가신다']"
      ]
     },
     "execution_count": 7,
     "metadata": {},
     "output_type": "execute_result"
    }
   ],
   "source": [
    "pos_list = okt.morphs(sentence_list[0])\n",
    "pos_list"
   ]
  },
  {
   "cell_type": "code",
   "execution_count": 10,
   "metadata": {},
   "outputs": [
    {
     "data": {
      "text/plain": [
       "[('나', 'Noun'),\n",
       " ('는', 'Josa'),\n",
       " ('밥', 'Noun'),\n",
       " ('을', 'Josa'),\n",
       " ('먹는다', 'Verb'),\n",
       " ('.', 'Punctuation')]"
      ]
     },
     "execution_count": 10,
     "metadata": {},
     "output_type": "execute_result"
    }
   ],
   "source": [
    "# 품사 확인\n",
    "okt.pos(sentence_list[0])\n",
    "pos_tag_list = okt.pos(sentence_list[1])\n",
    "pos_tag_list"
   ]
  },
  {
   "cell_type": "code",
   "execution_count": 15,
   "metadata": {},
   "outputs": [
    {
     "data": {
      "text/plain": [
       "['아이폰', '애플', '공홈', '락폰', '기', '실버']"
      ]
     },
     "execution_count": 15,
     "metadata": {},
     "output_type": "execute_result"
    }
   ],
   "source": [
    "# 명사만 모임\n",
    "okt.nouns(sentence_list[3])"
   ]
  },
  {
   "cell_type": "code",
   "execution_count": 17,
   "metadata": {},
   "outputs": [
    {
     "data": {
      "text/plain": [
       "[('아버지', 'Noun'), ('가방', 'Noun'), ('에', 'Josa'), ('들어가다', 'Verb')]"
      ]
     },
     "execution_count": 17,
     "metadata": {},
     "output_type": "execute_result"
    }
   ],
   "source": [
    "# 품사 원형 복원 (Stemming, Lemmatizing)\n",
    "okt.pos(sentence_list[0], stem=True)"
   ]
  },
  {
   "cell_type": "code",
   "execution_count": 25,
   "metadata": {},
   "outputs": [
    {
     "data": {
      "text/plain": [
       "[('아버지', 'Noun'),\n",
       " ('가방', 'Noun'),\n",
       " ('에', 'Josa'),\n",
       " ('들어가다', 'Verb'),\n",
       " ('밥', 'Noun'),\n",
       " ('을', 'Josa'),\n",
       " ('먹다', 'Verb'),\n",
       " ('.', 'Punctuation'),\n",
       " ('하늘', 'Noun'),\n",
       " ('을', 'Josa'),\n",
       " ('나', 'Noun'),\n",
       " ('는', 'Josa'),\n",
       " ('자동차', 'Noun'),\n",
       " ('아이폰', 'Noun'),\n",
       " ('기다리다', 'Verb'),\n",
       " ('지치다', 'Verb'),\n",
       " ('애플', 'Noun'),\n",
       " ('공홈', 'Noun'),\n",
       " ('에서', 'Josa'),\n",
       " ('언', 'Modifier'),\n",
       " ('락폰', 'Noun'),\n",
       " ('지르다', 'Verb'),\n",
       " ('버리다', 'Verb'),\n",
       " ('6', 'Number'),\n",
       " ('+', 'Punctuation'),\n",
       " ('128', 'Number'),\n",
       " ('기', 'Noun'),\n",
       " ('가', 'Josa'),\n",
       " ('실버', 'Noun'),\n",
       " ('ㅋ', 'KoreanParticle')]"
      ]
     },
     "execution_count": 25,
     "metadata": {},
     "output_type": "execute_result"
    }
   ],
   "source": [
    "# 명사외에 특정 품사 모임\n",
    "join_text = ''.join(sentence_list)\n",
    "sentence_pos = okt.pos(join_text, stem=True)\n",
    "sentence_pos"
   ]
  },
  {
   "cell_type": "code",
   "execution_count": 26,
   "metadata": {},
   "outputs": [
    {
     "data": {
      "text/plain": [
       "['들어가다', '먹다', '기다리다', '지치다', '지르다', '버리다']"
      ]
     },
     "execution_count": 26,
     "metadata": {},
     "output_type": "execute_result"
    }
   ],
   "source": [
    "verb_list = [ word for word, pos in sentence_pos if pos == 'Verb']\n",
    "verb_list"
   ]
  },
  {
   "cell_type": "markdown",
   "metadata": {},
   "source": [
    "### Mecab"
   ]
  },
  {
   "cell_type": "code",
   "execution_count": 2,
   "metadata": {},
   "outputs": [],
   "source": [
    "from mecab import MeCab\n",
    "mecab_inst = MeCab()"
   ]
  },
  {
   "cell_type": "code",
   "execution_count": 11,
   "metadata": {},
   "outputs": [
    {
     "data": {
      "text/plain": [
       "['아버지', '가', '방', '에', '들어가', '신다']"
      ]
     },
     "execution_count": 11,
     "metadata": {},
     "output_type": "execute_result"
    }
   ],
   "source": [
    "mecab_inst.morphs(sentence_list[0])"
   ]
  },
  {
   "cell_type": "code",
   "execution_count": 13,
   "metadata": {},
   "outputs": [
    {
     "data": {
      "text/plain": [
       "[('아버지', 'NNG'),\n",
       " ('가', 'JKS'),\n",
       " ('방', 'NNG'),\n",
       " ('에', 'JKB'),\n",
       " ('들어가', 'VV'),\n",
       " ('신다', 'EP+EC')]"
      ]
     },
     "execution_count": 13,
     "metadata": {},
     "output_type": "execute_result"
    }
   ],
   "source": [
    "pos_tag_list = mecab_inst.pos(sentence_list[0])\n",
    "pos_tag_list"
   ]
  },
  {
   "cell_type": "code",
   "execution_count": 14,
   "metadata": {},
   "outputs": [
    {
     "data": {
      "text/plain": [
       "[('나', 'NP'),\n",
       " ('는', 'JX'),\n",
       " ('밥', 'NNG'),\n",
       " ('을', 'JKO'),\n",
       " ('먹', 'VV'),\n",
       " ('는다', 'EF'),\n",
       " ('.', 'SF')]"
      ]
     },
     "execution_count": 14,
     "metadata": {},
     "output_type": "execute_result"
    }
   ],
   "source": [
    "# 품사 확인\n",
    "pos_tag_list = mecab_inst.pos(sentence_list[1])\n",
    "pos_tag_list"
   ]
  },
  {
   "cell_type": "code",
   "execution_count": 16,
   "metadata": {},
   "outputs": [
    {
     "data": {
      "text/plain": [
       "['아이폰', '애플', '공홈', '언락', '폰', '기', '실버']"
      ]
     },
     "execution_count": 16,
     "metadata": {},
     "output_type": "execute_result"
    }
   ],
   "source": [
    "mecab_inst.nouns(sentence_list[3])"
   ]
  },
  {
   "cell_type": "code",
   "execution_count": 28,
   "metadata": {},
   "outputs": [
    {
     "data": {
      "text/plain": [
       "[('아버지', 'NNG'),\n",
       " ('가', 'JKS'),\n",
       " ('방', 'NNG'),\n",
       " ('에', 'JKB'),\n",
       " ('들어가', 'VV'),\n",
       " ('신다', 'EP+EF'),\n",
       " ('나', 'NP'),\n",
       " ('는', 'JX'),\n",
       " ('밥', 'NNG'),\n",
       " ('을', 'JKO'),\n",
       " ('먹', 'VV'),\n",
       " ('는다', 'EF'),\n",
       " ('.', 'SF'),\n",
       " ('하늘', 'NNG'),\n",
       " ('을', 'JKO'),\n",
       " ('나', 'NP'),\n",
       " ('는', 'JX'),\n",
       " ('자동차', 'NNG'),\n",
       " ('아이폰', 'NNP'),\n",
       " ('기다리', 'VV'),\n",
       " ('다', 'EC'),\n",
       " ('지쳐', 'VV+EC'),\n",
       " ('애플', 'NNP'),\n",
       " ('공홈', 'NNG'),\n",
       " ('에서', 'JKB'),\n",
       " ('언락', 'NNG'),\n",
       " ('폰', 'NNG'),\n",
       " ('질러', 'VV+EC'),\n",
       " ('버렸', 'VX+EP'),\n",
       " ('다', 'EC'),\n",
       " ('6', 'SN'),\n",
       " ('+', 'SY'),\n",
       " ('128', 'SN'),\n",
       " ('기', 'NNG'),\n",
       " ('가', 'JKS'),\n",
       " ('실버', 'NNP'),\n",
       " ('ㅋ', 'IC')]"
      ]
     },
     "execution_count": 28,
     "metadata": {},
     "output_type": "execute_result"
    }
   ],
   "source": [
    "# 명사외에 특정 품사 모임\n",
    "join_text = ''.join(sentence_list)\n",
    "sentence_pos = mecab_inst.pos(join_text)\n",
    "sentence_pos"
   ]
  }
 ],
 "metadata": {
  "kernelspec": {
   "display_name": "Python 3",
   "language": "python",
   "name": "python3"
  },
  "language_info": {
   "codemirror_mode": {
    "name": "ipython",
    "version": 3
   },
   "file_extension": ".py",
   "mimetype": "text/x-python",
   "name": "python",
   "nbconvert_exporter": "python",
   "pygments_lexer": "ipython3",
   "version": "3.11.11"
  }
 },
 "nbformat": 4,
 "nbformat_minor": 2
}
