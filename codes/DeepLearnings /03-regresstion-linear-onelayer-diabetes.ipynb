{
 "cells": [
  {
   "cell_type": "markdown",
   "id": "e549e3ec",
   "metadata": {
    "id": "UDB893xWJypr",
    "papermill": {
     "duration": 0.00856,
     "end_time": "2025-02-03T01:46:18.226252",
     "exception": false,
     "start_time": "2025-02-03T01:46:18.217692",
     "status": "completed"
    },
    "tags": []
   },
   "source": [
    "## 데이터 수집\n"
   ]
  },
  {
   "cell_type": "code",
   "execution_count": 1,
   "id": "09b34ed3",
   "metadata": {
    "execution": {
     "iopub.execute_input": "2025-02-03T01:46:18.241019Z",
     "iopub.status.busy": "2025-02-03T01:46:18.240134Z",
     "iopub.status.idle": "2025-02-03T01:46:20.176482Z",
     "shell.execute_reply": "2025-02-03T01:46:20.175168Z"
    },
    "executionInfo": {
     "elapsed": 261,
     "status": "ok",
     "timestamp": 1737702884562,
     "user": {
      "displayName": "SangHoon Lee (Huey)",
      "userId": "12657544767271925538"
     },
     "user_tz": -540
    },
    "id": "0QGhgqc2I36u",
    "papermill": {
     "duration": 1.94617,
     "end_time": "2025-02-03T01:46:20.178796",
     "exception": false,
     "start_time": "2025-02-03T01:46:18.232626",
     "status": "completed"
    },
    "tags": []
   },
   "outputs": [],
   "source": [
    "from sklearn.datasets import load_diabetes\n",
    "data_diabetes = load_diabetes()\n",
    "features, label = data_diabetes.data, data_diabetes.target"
   ]
  },
  {
   "cell_type": "code",
   "execution_count": 2,
   "id": "80ae320f",
   "metadata": {
    "execution": {
     "iopub.execute_input": "2025-02-03T01:46:20.193190Z",
     "iopub.status.busy": "2025-02-03T01:46:20.192655Z",
     "iopub.status.idle": "2025-02-03T01:46:20.200469Z",
     "shell.execute_reply": "2025-02-03T01:46:20.199143Z"
    },
    "executionInfo": {
     "elapsed": 5,
     "status": "ok",
     "timestamp": 1737702908731,
     "user": {
      "displayName": "SangHoon Lee (Huey)",
      "userId": "12657544767271925538"
     },
     "user_tz": -540
    },
    "id": "lDblcighJ_8U",
    "outputId": "0e4e2235-b384-475c-d00c-2a5e3570d988",
    "papermill": {
     "duration": 0.016662,
     "end_time": "2025-02-03T01:46:20.202457",
     "exception": false,
     "start_time": "2025-02-03T01:46:20.185795",
     "status": "completed"
    },
    "tags": []
   },
   "outputs": [
    {
     "data": {
      "text/plain": [
       "((442, 10), (442,))"
      ]
     },
     "execution_count": 2,
     "metadata": {},
     "output_type": "execute_result"
    }
   ],
   "source": [
    "features.shape, label.shape"
   ]
  },
  {
   "cell_type": "markdown",
   "id": "38a5bba2",
   "metadata": {
    "id": "lUIiFIcKKIQr",
    "papermill": {
     "duration": 0.007108,
     "end_time": "2025-02-03T01:46:20.215510",
     "exception": false,
     "start_time": "2025-02-03T01:46:20.208402",
     "status": "completed"
    },
    "tags": []
   },
   "source": [
    "\n",
    "## 데이터 전처리\n",
    "- 데이터 분석"
   ]
  },
  {
   "cell_type": "markdown",
   "id": "71f3511f",
   "metadata": {
    "id": "ZFwb3gUXKenT",
    "papermill": {
     "duration": 0.006132,
     "end_time": "2025-02-03T01:46:20.227848",
     "exception": false,
     "start_time": "2025-02-03T01:46:20.221716",
     "status": "completed"
    },
    "tags": []
   },
   "source": [
    "## 데이터 분할\n",
    "- train, test, validation"
   ]
  },
  {
   "cell_type": "code",
   "execution_count": 3,
   "id": "ba72021f",
   "metadata": {
    "execution": {
     "iopub.execute_input": "2025-02-03T01:46:20.243184Z",
     "iopub.status.busy": "2025-02-03T01:46:20.242675Z",
     "iopub.status.idle": "2025-02-03T01:46:20.397540Z",
     "shell.execute_reply": "2025-02-03T01:46:20.395954Z"
    },
    "executionInfo": {
     "elapsed": 274,
     "status": "ok",
     "timestamp": 1737703038764,
     "user": {
      "displayName": "SangHoon Lee (Huey)",
      "userId": "12657544767271925538"
     },
     "user_tz": -540
    },
    "id": "nLb_4UkSKe6C",
    "papermill": {
     "duration": 0.16621,
     "end_time": "2025-02-03T01:46:20.400206",
     "exception": false,
     "start_time": "2025-02-03T01:46:20.233996",
     "status": "completed"
    },
    "tags": []
   },
   "outputs": [],
   "source": [
    "from sklearn.model_selection import train_test_split\n",
    "train_features, test_features, train_label, test_label = train_test_split(features, label, test_size=0.2, random_state=42)"
   ]
  },
  {
   "cell_type": "code",
   "execution_count": 4,
   "id": "c8135cb8",
   "metadata": {
    "execution": {
     "iopub.execute_input": "2025-02-03T01:46:20.415434Z",
     "iopub.status.busy": "2025-02-03T01:46:20.415020Z",
     "iopub.status.idle": "2025-02-03T01:46:20.423543Z",
     "shell.execute_reply": "2025-02-03T01:46:20.422043Z"
    },
    "executionInfo": {
     "elapsed": 261,
     "status": "ok",
     "timestamp": 1737703070667,
     "user": {
      "displayName": "SangHoon Lee (Huey)",
      "userId": "12657544767271925538"
     },
     "user_tz": -540
    },
    "id": "89GU1BE0LD0b",
    "outputId": "96b36377-ba0b-4611-a87b-ec19f21b75da",
    "papermill": {
     "duration": 0.018508,
     "end_time": "2025-02-03T01:46:20.426007",
     "exception": false,
     "start_time": "2025-02-03T01:46:20.407499",
     "status": "completed"
    },
    "tags": []
   },
   "outputs": [
    {
     "data": {
      "text/plain": [
       "((353, 10), (89, 10), (353,), (89,))"
      ]
     },
     "execution_count": 4,
     "metadata": {},
     "output_type": "execute_result"
    }
   ],
   "source": [
    "train_features.shape, test_features.shape, train_label.shape, test_label.shape"
   ]
  },
  {
   "cell_type": "code",
   "execution_count": 5,
   "id": "b80c9a93",
   "metadata": {
    "execution": {
     "iopub.execute_input": "2025-02-03T01:46:20.439814Z",
     "iopub.status.busy": "2025-02-03T01:46:20.439352Z",
     "iopub.status.idle": "2025-02-03T01:46:20.447079Z",
     "shell.execute_reply": "2025-02-03T01:46:20.445414Z"
    },
    "executionInfo": {
     "elapsed": 287,
     "status": "ok",
     "timestamp": 1737703126654,
     "user": {
      "displayName": "SangHoon Lee (Huey)",
      "userId": "12657544767271925538"
     },
     "user_tz": -540
    },
    "id": "jMsLb4NCLO8T",
    "outputId": "59176918-54ad-46ba-940d-a1be9b85ea0f",
    "papermill": {
     "duration": 0.016829,
     "end_time": "2025-02-03T01:46:20.449138",
     "exception": false,
     "start_time": "2025-02-03T01:46:20.432309",
     "status": "completed"
    },
    "tags": []
   },
   "outputs": [
    {
     "data": {
      "text/plain": [
       "(numpy.ndarray, numpy.ndarray, numpy.ndarray, numpy.ndarray)"
      ]
     },
     "execution_count": 5,
     "metadata": {},
     "output_type": "execute_result"
    }
   ],
   "source": [
    "type(train_features), type(test_features), type(train_label), type(test_label)"
   ]
  },
  {
   "cell_type": "code",
   "execution_count": 6,
   "id": "edf8c95e",
   "metadata": {
    "execution": {
     "iopub.execute_input": "2025-02-03T01:46:20.464594Z",
     "iopub.status.busy": "2025-02-03T01:46:20.463964Z",
     "iopub.status.idle": "2025-02-03T01:46:25.392224Z",
     "shell.execute_reply": "2025-02-03T01:46:25.390505Z"
    },
    "executionInfo": {
     "elapsed": 5355,
     "status": "ok",
     "timestamp": 1737703157927,
     "user": {
      "displayName": "SangHoon Lee (Huey)",
      "userId": "12657544767271925538"
     },
     "user_tz": -540
    },
    "id": "AB77Um8oLaTi",
    "papermill": {
     "duration": 4.938998,
     "end_time": "2025-02-03T01:46:25.394234",
     "exception": false,
     "start_time": "2025-02-03T01:46:20.455236",
     "status": "completed"
    },
    "tags": []
   },
   "outputs": [],
   "source": [
    "import torch"
   ]
  },
  {
   "cell_type": "code",
   "execution_count": 7,
   "id": "52a2cb02",
   "metadata": {
    "execution": {
     "iopub.execute_input": "2025-02-03T01:46:25.409781Z",
     "iopub.status.busy": "2025-02-03T01:46:25.409213Z",
     "iopub.status.idle": "2025-02-03T01:46:25.457701Z",
     "shell.execute_reply": "2025-02-03T01:46:25.456423Z"
    },
    "executionInfo": {
     "elapsed": 281,
     "status": "ok",
     "timestamp": 1737706473928,
     "user": {
      "displayName": "SangHoon Lee (Huey)",
      "userId": "12657544767271925538"
     },
     "user_tz": -540
    },
    "id": "5dQppqhSLeyT",
    "outputId": "ed386869-3b63-4dad-f4aa-41f851047d72",
    "papermill": {
     "duration": 0.059397,
     "end_time": "2025-02-03T01:46:25.459787",
     "exception": false,
     "start_time": "2025-02-03T01:46:25.400390",
     "status": "completed"
    },
    "tags": []
   },
   "outputs": [
    {
     "data": {
      "text/plain": [
       "(torch.Tensor, torch.Tensor)"
      ]
     },
     "execution_count": 7,
     "metadata": {},
     "output_type": "execute_result"
    }
   ],
   "source": [
    "train_features_tensor = torch.tensor(train_features, dtype=torch.float32)\n",
    "train_label_tensor = torch.tensor(train_label, dtype=torch.float32).view(-1,1) # 행만 있는 경우 행열로 변환 해줌\n",
    "# test_features_tensor = torch.tensor(test_features)\n",
    "# test_label_tensor = torch.tensor(test_label)\n",
    "type(train_features_tensor), type(train_label_tensor)"
   ]
  },
  {
   "cell_type": "code",
   "execution_count": 8,
   "id": "274e5bc2",
   "metadata": {
    "execution": {
     "iopub.execute_input": "2025-02-03T01:46:25.474290Z",
     "iopub.status.busy": "2025-02-03T01:46:25.473920Z",
     "iopub.status.idle": "2025-02-03T01:46:25.479908Z",
     "shell.execute_reply": "2025-02-03T01:46:25.478786Z"
    },
    "executionInfo": {
     "elapsed": 254,
     "status": "ok",
     "timestamp": 1737706476821,
     "user": {
      "displayName": "SangHoon Lee (Huey)",
      "userId": "12657544767271925538"
     },
     "user_tz": -540
    },
    "id": "IAKGOWdPL8y0",
    "outputId": "85012a38-4e13-44c3-b161-028cc0d70ba0",
    "papermill": {
     "duration": 0.015656,
     "end_time": "2025-02-03T01:46:25.481606",
     "exception": false,
     "start_time": "2025-02-03T01:46:25.465950",
     "status": "completed"
    },
    "tags": []
   },
   "outputs": [
    {
     "data": {
      "text/plain": [
       "(torch.Size([353, 10]), torch.Size([353, 1]))"
      ]
     },
     "execution_count": 8,
     "metadata": {},
     "output_type": "execute_result"
    }
   ],
   "source": [
    "train_features_tensor.shape, train_label_tensor.shape"
   ]
  },
  {
   "cell_type": "markdown",
   "id": "aa5d2f03",
   "metadata": {
    "id": "6f789iE6Klfr",
    "papermill": {
     "duration": 0.006076,
     "end_time": "2025-02-03T01:46:25.494144",
     "exception": false,
     "start_time": "2025-02-03T01:46:25.488068",
     "status": "completed"
    },
    "tags": []
   },
   "source": [
    "## 모델 학습\n",
    "\n"
   ]
  },
  {
   "cell_type": "code",
   "execution_count": 9,
   "id": "b4940a70",
   "metadata": {
    "execution": {
     "iopub.execute_input": "2025-02-03T01:46:25.508076Z",
     "iopub.status.busy": "2025-02-03T01:46:25.507631Z",
     "iopub.status.idle": "2025-02-03T01:46:25.513226Z",
     "shell.execute_reply": "2025-02-03T01:46:25.511987Z"
    },
    "executionInfo": {
     "elapsed": 412,
     "status": "ok",
     "timestamp": 1737703869666,
     "user": {
      "displayName": "SangHoon Lee (Huey)",
      "userId": "12657544767271925538"
     },
     "user_tz": -540
    },
    "id": "tKYtxnRpMI4k",
    "papermill": {
     "duration": 0.014939,
     "end_time": "2025-02-03T01:46:25.515106",
     "exception": false,
     "start_time": "2025-02-03T01:46:25.500167",
     "status": "completed"
    },
    "tags": []
   },
   "outputs": [],
   "source": [
    "# simple model linear regression\n",
    "# model, loss function, optimizer function\n",
    "class LinearRegression(torch.nn.Module) :\n",
    "    def __init__(self, input_dim, output_dim): # input : feature 의 열 갯수, output : label의 카테고리 갯수 (연속형은 값 하나)\n",
    "        super(LinearRegression, self).__init__()\n",
    "        self.linear = torch.nn.Linear(input_dim,output_dim)\n",
    "\n",
    "    def forward(self, x):\n",
    "        out = self.linear(x)\n",
    "        return out\n"
   ]
  },
  {
   "cell_type": "code",
   "execution_count": 10,
   "id": "d55689e3",
   "metadata": {
    "execution": {
     "iopub.execute_input": "2025-02-03T01:46:25.531882Z",
     "iopub.status.busy": "2025-02-03T01:46:25.531458Z",
     "iopub.status.idle": "2025-02-03T01:46:25.539351Z",
     "shell.execute_reply": "2025-02-03T01:46:25.537453Z"
    },
    "executionInfo": {
     "elapsed": 261,
     "status": "ok",
     "timestamp": 1737704113517,
     "user": {
      "displayName": "SangHoon Lee (Huey)",
      "userId": "12657544767271925538"
     },
     "user_tz": -540
    },
    "id": "8Lw855O9OUTk",
    "outputId": "ff2dd1c5-dcdc-40b5-ef75-1dd082bd07e2",
    "papermill": {
     "duration": 0.02044,
     "end_time": "2025-02-03T01:46:25.543246",
     "exception": false,
     "start_time": "2025-02-03T01:46:25.522806",
     "status": "completed"
    },
    "tags": []
   },
   "outputs": [
    {
     "data": {
      "text/plain": [
       "(10, 1)"
      ]
     },
     "execution_count": 10,
     "metadata": {},
     "output_type": "execute_result"
    }
   ],
   "source": [
    "train_features_tensor.shape[1], train_label_tensor.shape[1]"
   ]
  },
  {
   "cell_type": "code",
   "execution_count": 11,
   "id": "694f27ab",
   "metadata": {
    "execution": {
     "iopub.execute_input": "2025-02-03T01:46:25.557668Z",
     "iopub.status.busy": "2025-02-03T01:46:25.557242Z",
     "iopub.status.idle": "2025-02-03T01:46:25.576707Z",
     "shell.execute_reply": "2025-02-03T01:46:25.575202Z"
    },
    "executionInfo": {
     "elapsed": 269,
     "status": "ok",
     "timestamp": 1737704133130,
     "user": {
      "displayName": "SangHoon Lee (Huey)",
      "userId": "12657544767271925538"
     },
     "user_tz": -540
    },
    "id": "umcPAfVsOLXE",
    "papermill": {
     "duration": 0.029107,
     "end_time": "2025-02-03T01:46:25.579121",
     "exception": false,
     "start_time": "2025-02-03T01:46:25.550014",
     "status": "completed"
    },
    "tags": []
   },
   "outputs": [],
   "source": [
    "model = LinearRegression(train_features_tensor.shape[1], train_label_tensor.shape[1])"
   ]
  },
  {
   "cell_type": "code",
   "execution_count": 12,
   "id": "56791f1e",
   "metadata": {
    "execution": {
     "iopub.execute_input": "2025-02-03T01:46:25.593255Z",
     "iopub.status.busy": "2025-02-03T01:46:25.592809Z",
     "iopub.status.idle": "2025-02-03T01:46:25.599450Z",
     "shell.execute_reply": "2025-02-03T01:46:25.598265Z"
    },
    "executionInfo": {
     "elapsed": 260,
     "status": "ok",
     "timestamp": 1737705772082,
     "user": {
      "displayName": "SangHoon Lee (Huey)",
      "userId": "12657544767271925538"
     },
     "user_tz": -540
    },
    "id": "X1haY7fgPN9b",
    "outputId": "4f733b04-3201-400d-bbd6-2bf4362c6a6a",
    "papermill": {
     "duration": 0.016029,
     "end_time": "2025-02-03T01:46:25.601428",
     "exception": false,
     "start_time": "2025-02-03T01:46:25.585399",
     "status": "completed"
    },
    "tags": []
   },
   "outputs": [
    {
     "data": {
      "text/plain": [
       "LinearRegression(\n",
       "  (linear): Linear(in_features=10, out_features=1, bias=True)\n",
       ")"
      ]
     },
     "execution_count": 12,
     "metadata": {},
     "output_type": "execute_result"
    }
   ],
   "source": [
    "model"
   ]
  },
  {
   "cell_type": "code",
   "execution_count": 13,
   "id": "a80a54fb",
   "metadata": {
    "execution": {
     "iopub.execute_input": "2025-02-03T01:46:25.615668Z",
     "iopub.status.busy": "2025-02-03T01:46:25.615259Z",
     "iopub.status.idle": "2025-02-03T01:46:31.156613Z",
     "shell.execute_reply": "2025-02-03T01:46:31.155242Z"
    },
    "executionInfo": {
     "elapsed": 10857,
     "status": "ok",
     "timestamp": 1737706099796,
     "user": {
      "displayName": "SangHoon Lee (Huey)",
      "userId": "12657544767271925538"
     },
     "user_tz": -540
    },
    "id": "J83domFsVd1-",
    "papermill": {
     "duration": 5.550792,
     "end_time": "2025-02-03T01:46:31.158805",
     "exception": false,
     "start_time": "2025-02-03T01:46:25.608013",
     "status": "completed"
    },
    "tags": []
   },
   "outputs": [],
   "source": [
    "criterion = torch.nn.MSELoss() # Loss function\n",
    "optimizer = torch.optim.SGD(model.parameters(), lr=0.01) # Optimizer fuction, lr = learnning rate : gradient decsent 빠르게 찾기 최근에 ADAMW 가 제일 좋다. 찾아가는 과정 어렵다. 그래서 optimizer 성능 중요하다."
   ]
  },
  {
   "cell_type": "code",
   "execution_count": 14,
   "id": "276258b9",
   "metadata": {
    "execution": {
     "iopub.execute_input": "2025-02-03T01:46:31.174967Z",
     "iopub.status.busy": "2025-02-03T01:46:31.174403Z",
     "iopub.status.idle": "2025-02-03T01:46:31.840929Z",
     "shell.execute_reply": "2025-02-03T01:46:31.839535Z"
    },
    "executionInfo": {
     "elapsed": 804,
     "status": "ok",
     "timestamp": 1737706559640,
     "user": {
      "displayName": "SangHoon Lee (Huey)",
      "userId": "12657544767271925538"
     },
     "user_tz": -540
    },
    "id": "dRH4rddcWqSm",
    "outputId": "fab01dff-ab99-4e25-bd3a-4bbaffd8d469",
    "papermill": {
     "duration": 0.676475,
     "end_time": "2025-02-03T01:46:31.842986",
     "exception": false,
     "start_time": "2025-02-03T01:46:31.166511",
     "status": "completed"
    },
    "tags": []
   },
   "outputs": [
    {
     "name": "stdout",
     "output_type": "stream",
     "text": [
      "epoch : 0, loss : 29754.302734375\n",
      "epoch : 100, loss : 6412.3916015625\n",
      "epoch : 200, loss : 5926.95947265625\n",
      "epoch : 300, loss : 5845.83203125\n",
      "epoch : 400, loss : 5774.06494140625\n",
      "epoch : 500, loss : 5704.63671875\n",
      "epoch : 600, loss : 5637.3486328125\n",
      "epoch : 700, loss : 5572.12646484375\n",
      "epoch : 800, loss : 5508.9013671875\n",
      "epoch : 900, loss : 5447.60498046875\n"
     ]
    }
   ],
   "source": [
    "## 반복 학습\n",
    "# for epoch in range(10):\n",
    "for epoch in range(1000):\n",
    "    pred_y = model.forward(train_features_tensor)\n",
    "    loss = criterion(pred_y, train_label_tensor)\n",
    "    optimizer.zero_grad()\n",
    "    loss.backward()\n",
    "    optimizer.step()\n",
    "\n",
    "    if epoch % 100 == 0:\n",
    "        print(f\"epoch : {epoch}, loss : {loss.item()}\")\n",
    "\n"
   ]
  },
  {
   "cell_type": "markdown",
   "id": "1825ef73",
   "metadata": {
    "id": "1nvzhmSzKmhL",
    "papermill": {
     "duration": 0.006152,
     "end_time": "2025-02-03T01:46:31.855878",
     "exception": false,
     "start_time": "2025-02-03T01:46:31.849726",
     "status": "completed"
    },
    "tags": []
   },
   "source": [
    "## 모델 평가\n",
    "\n"
   ]
  },
  {
   "cell_type": "code",
   "execution_count": 15,
   "id": "fa46833c",
   "metadata": {
    "execution": {
     "iopub.execute_input": "2025-02-03T01:46:31.871924Z",
     "iopub.status.busy": "2025-02-03T01:46:31.871373Z",
     "iopub.status.idle": "2025-02-03T01:46:31.879065Z",
     "shell.execute_reply": "2025-02-03T01:46:31.877449Z"
    },
    "executionInfo": {
     "elapsed": 311,
     "status": "ok",
     "timestamp": 1737706621438,
     "user": {
      "displayName": "SangHoon Lee (Huey)",
      "userId": "12657544767271925538"
     },
     "user_tz": -540
    },
    "id": "YxtyxKJPYpP-",
    "outputId": "5d883e40-7797-446a-e7b6-9b1f94eb5893",
    "papermill": {
     "duration": 0.018525,
     "end_time": "2025-02-03T01:46:31.881072",
     "exception": false,
     "start_time": "2025-02-03T01:46:31.862547",
     "status": "completed"
    },
    "tags": []
   },
   "outputs": [
    {
     "data": {
      "text/plain": [
       "LinearRegression(\n",
       "  (linear): Linear(in_features=10, out_features=1, bias=True)\n",
       ")"
      ]
     },
     "execution_count": 15,
     "metadata": {},
     "output_type": "execute_result"
    }
   ],
   "source": [
    "model.eval()"
   ]
  },
  {
   "cell_type": "code",
   "execution_count": 16,
   "id": "b1bc53ce",
   "metadata": {
    "execution": {
     "iopub.execute_input": "2025-02-03T01:46:31.896499Z",
     "iopub.status.busy": "2025-02-03T01:46:31.896120Z",
     "iopub.status.idle": "2025-02-03T01:46:31.904092Z",
     "shell.execute_reply": "2025-02-03T01:46:31.901902Z"
    },
    "executionInfo": {
     "elapsed": 271,
     "status": "ok",
     "timestamp": 1737706777307,
     "user": {
      "displayName": "SangHoon Lee (Huey)",
      "userId": "12657544767271925538"
     },
     "user_tz": -540
    },
    "id": "3aIcWupFYt-X",
    "outputId": "0f6a0057-e281-4a94-80d8-19cea59ee422",
    "papermill": {
     "duration": 0.01869,
     "end_time": "2025-02-03T01:46:31.906757",
     "exception": false,
     "start_time": "2025-02-03T01:46:31.888067",
     "status": "completed"
    },
    "tags": []
   },
   "outputs": [
    {
     "name": "stdout",
     "output_type": "stream",
     "text": [
      "loss : 5388.1728515625\n"
     ]
    }
   ],
   "source": [
    "with torch.no_grad(): # 학습 목정이 아닌 평가 목적 위해 고정\n",
    "    pred_y = model(train_features_tensor)\n",
    "    loss = criterion(pred_y, train_label_tensor) # 예측도 간은 loss function\n",
    "    print(f\"loss : {loss.item()}\")\n"
   ]
  },
  {
   "cell_type": "markdown",
   "id": "0e88c32b",
   "metadata": {
    "id": "SMKe4XqnKoYC",
    "papermill": {
     "duration": 0.010179,
     "end_time": "2025-02-03T01:46:31.925418",
     "exception": false,
     "start_time": "2025-02-03T01:46:31.915239",
     "status": "completed"
    },
    "tags": []
   },
   "source": [
    "## 모델 배포"
   ]
  }
 ],
 "metadata": {
  "colab": {
   "authorship_tag": "ABX9TyNCChy0WQCUGXGiGfw/Xkfu",
   "provenance": []
  },
  "kaggle": {
   "accelerator": "none",
   "dataSources": [],
   "dockerImageVersionId": 30839,
   "isGpuEnabled": false,
   "isInternetEnabled": false,
   "language": "python",
   "sourceType": "notebook"
  },
  "kernelspec": {
   "display_name": "Python 3",
   "language": "python",
   "name": "python3"
  },
  "language_info": {
   "codemirror_mode": {
    "name": "ipython",
    "version": 3
   },
   "file_extension": ".py",
   "mimetype": "text/x-python",
   "name": "python",
   "nbconvert_exporter": "python",
   "pygments_lexer": "ipython3",
   "version": "3.10.12"
  },
  "papermill": {
   "default_parameters": {},
   "duration": 19.699802,
   "end_time": "2025-02-03T01:46:34.649331",
   "environment_variables": {},
   "exception": null,
   "input_path": "__notebook__.ipynb",
   "output_path": "__notebook__.ipynb",
   "parameters": {},
   "start_time": "2025-02-03T01:46:14.949529",
   "version": "2.6.0"
  }
 },
 "nbformat": 4,
 "nbformat_minor": 5
}
