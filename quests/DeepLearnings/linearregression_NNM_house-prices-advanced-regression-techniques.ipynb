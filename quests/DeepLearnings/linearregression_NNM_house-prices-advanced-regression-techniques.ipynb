{
 "cells": [
  {
   "cell_type": "markdown",
   "metadata": {
    "id": "view-in-github"
   },
   "source": [
    "<a href=\"https://colab.research.google.com/github/HueyVault/study_NLPs/blob/main/quests/DeepLearnings/linearregression_house_prices_advanced_regression_techniques.ipynb\" target=\"_parent\"><img src=\"https://colab.research.google.com/assets/colab-badge.svg\" alt=\"Open In Colab\"/></a>"
   ]
  },
  {
   "cell_type": "markdown",
   "metadata": {
    "id": "UDB893xWJypr"
   },
   "source": [
    "## 데이터 수집\n"
   ]
  },
  {
   "cell_type": "code",
   "execution_count": 1,
   "metadata": {
    "execution": {
     "iopub.execute_input": "2025-02-03T14:02:08.789140Z",
     "iopub.status.busy": "2025-02-03T14:02:08.788695Z",
     "iopub.status.idle": "2025-02-03T14:02:08.795336Z",
     "shell.execute_reply": "2025-02-03T14:02:08.794014Z",
     "shell.execute_reply.started": "2025-02-03T14:02:08.789069Z"
    },
    "trusted": true
   },
   "outputs": [
    {
     "name": "stdout",
     "output_type": "stream",
     "text": [
      "kaggle\n"
     ]
    }
   ],
   "source": [
    "import os\n",
    "# 환경 변수에 따라 파일 경로 설정\n",
    "if os.getenv('KAGGLE_KERNEL_RUN_TYPE') is not None:\n",
    "    # Kaggle 환경\n",
    "    train_file_path =  f'/kaggle/input/house-prices-advanced-regression-techniques/train.csv'\n",
    "    test_file_path = f'/kaggle/input/house-prices-advanced-regression-techniques/test.csv'\n",
    "    print(\"kaggle\")\n",
    "else:\n",
    "    # Docker 환경\n",
    "    train_file_path = \"../../datasets/train.csv\"\n",
    "    test_file_path = \"../../datasets/test.csv\"\n",
    "    print(\"another\")\n",
    "    "
   ]
  },
  {
   "cell_type": "code",
   "execution_count": 2,
   "metadata": {
    "execution": {
     "iopub.execute_input": "2025-02-03T14:02:08.796462Z",
     "iopub.status.busy": "2025-02-03T14:02:08.796212Z",
     "iopub.status.idle": "2025-02-03T14:02:09.277211Z",
     "shell.execute_reply": "2025-02-03T14:02:09.275790Z",
     "shell.execute_reply.started": "2025-02-03T14:02:08.796438Z"
    },
    "trusted": true
   },
   "outputs": [
    {
     "name": "stdout",
     "output_type": "stream",
     "text": [
      "<class 'pandas.core.frame.DataFrame'>\n",
      "RangeIndex: 1460 entries, 0 to 1459\n",
      "Data columns (total 81 columns):\n",
      " #   Column         Non-Null Count  Dtype  \n",
      "---  ------         --------------  -----  \n",
      " 0   Id             1460 non-null   int64  \n",
      " 1   MSSubClass     1460 non-null   int64  \n",
      " 2   MSZoning       1460 non-null   object \n",
      " 3   LotFrontage    1201 non-null   float64\n",
      " 4   LotArea        1460 non-null   int64  \n",
      " 5   Street         1460 non-null   object \n",
      " 6   Alley          91 non-null     object \n",
      " 7   LotShape       1460 non-null   object \n",
      " 8   LandContour    1460 non-null   object \n",
      " 9   Utilities      1460 non-null   object \n",
      " 10  LotConfig      1460 non-null   object \n",
      " 11  LandSlope      1460 non-null   object \n",
      " 12  Neighborhood   1460 non-null   object \n",
      " 13  Condition1     1460 non-null   object \n",
      " 14  Condition2     1460 non-null   object \n",
      " 15  BldgType       1460 non-null   object \n",
      " 16  HouseStyle     1460 non-null   object \n",
      " 17  OverallQual    1460 non-null   int64  \n",
      " 18  OverallCond    1460 non-null   int64  \n",
      " 19  YearBuilt      1460 non-null   int64  \n",
      " 20  YearRemodAdd   1460 non-null   int64  \n",
      " 21  RoofStyle      1460 non-null   object \n",
      " 22  RoofMatl       1460 non-null   object \n",
      " 23  Exterior1st    1460 non-null   object \n",
      " 24  Exterior2nd    1460 non-null   object \n",
      " 25  MasVnrType     588 non-null    object \n",
      " 26  MasVnrArea     1452 non-null   float64\n",
      " 27  ExterQual      1460 non-null   object \n",
      " 28  ExterCond      1460 non-null   object \n",
      " 29  Foundation     1460 non-null   object \n",
      " 30  BsmtQual       1423 non-null   object \n",
      " 31  BsmtCond       1423 non-null   object \n",
      " 32  BsmtExposure   1422 non-null   object \n",
      " 33  BsmtFinType1   1423 non-null   object \n",
      " 34  BsmtFinSF1     1460 non-null   int64  \n",
      " 35  BsmtFinType2   1422 non-null   object \n",
      " 36  BsmtFinSF2     1460 non-null   int64  \n",
      " 37  BsmtUnfSF      1460 non-null   int64  \n",
      " 38  TotalBsmtSF    1460 non-null   int64  \n",
      " 39  Heating        1460 non-null   object \n",
      " 40  HeatingQC      1460 non-null   object \n",
      " 41  CentralAir     1460 non-null   object \n",
      " 42  Electrical     1459 non-null   object \n",
      " 43  1stFlrSF       1460 non-null   int64  \n",
      " 44  2ndFlrSF       1460 non-null   int64  \n",
      " 45  LowQualFinSF   1460 non-null   int64  \n",
      " 46  GrLivArea      1460 non-null   int64  \n",
      " 47  BsmtFullBath   1460 non-null   int64  \n",
      " 48  BsmtHalfBath   1460 non-null   int64  \n",
      " 49  FullBath       1460 non-null   int64  \n",
      " 50  HalfBath       1460 non-null   int64  \n",
      " 51  BedroomAbvGr   1460 non-null   int64  \n",
      " 52  KitchenAbvGr   1460 non-null   int64  \n",
      " 53  KitchenQual    1460 non-null   object \n",
      " 54  TotRmsAbvGrd   1460 non-null   int64  \n",
      " 55  Functional     1460 non-null   object \n",
      " 56  Fireplaces     1460 non-null   int64  \n",
      " 57  FireplaceQu    770 non-null    object \n",
      " 58  GarageType     1379 non-null   object \n",
      " 59  GarageYrBlt    1379 non-null   float64\n",
      " 60  GarageFinish   1379 non-null   object \n",
      " 61  GarageCars     1460 non-null   int64  \n",
      " 62  GarageArea     1460 non-null   int64  \n",
      " 63  GarageQual     1379 non-null   object \n",
      " 64  GarageCond     1379 non-null   object \n",
      " 65  PavedDrive     1460 non-null   object \n",
      " 66  WoodDeckSF     1460 non-null   int64  \n",
      " 67  OpenPorchSF    1460 non-null   int64  \n",
      " 68  EnclosedPorch  1460 non-null   int64  \n",
      " 69  3SsnPorch      1460 non-null   int64  \n",
      " 70  ScreenPorch    1460 non-null   int64  \n",
      " 71  PoolArea       1460 non-null   int64  \n",
      " 72  PoolQC         7 non-null      object \n",
      " 73  Fence          281 non-null    object \n",
      " 74  MiscFeature    54 non-null     object \n",
      " 75  MiscVal        1460 non-null   int64  \n",
      " 76  MoSold         1460 non-null   int64  \n",
      " 77  YrSold         1460 non-null   int64  \n",
      " 78  SaleType       1460 non-null   object \n",
      " 79  SaleCondition  1460 non-null   object \n",
      " 80  SalePrice      1460 non-null   int64  \n",
      "dtypes: float64(3), int64(35), object(43)\n",
      "memory usage: 924.0+ KB\n"
     ]
    }
   ],
   "source": [
    "import pandas as pd\n",
    "\n",
    "train_df = pd.read_csv(train_file_path)\n",
    "test_df = pd.read_csv(test_file_path)\n",
    "train_df.info()"
   ]
  },
  {
   "cell_type": "code",
   "execution_count": 3,
   "metadata": {
    "execution": {
     "iopub.execute_input": "2025-02-03T14:02:09.280187Z",
     "iopub.status.busy": "2025-02-03T14:02:09.279728Z",
     "iopub.status.idle": "2025-02-03T14:02:09.296068Z",
     "shell.execute_reply": "2025-02-03T14:02:09.295085Z",
     "shell.execute_reply.started": "2025-02-03T14:02:09.280130Z"
    },
    "trusted": true
   },
   "outputs": [
    {
     "name": "stdout",
     "output_type": "stream",
     "text": [
      "<class 'pandas.core.frame.DataFrame'>\n",
      "RangeIndex: 1459 entries, 0 to 1458\n",
      "Data columns (total 80 columns):\n",
      " #   Column         Non-Null Count  Dtype  \n",
      "---  ------         --------------  -----  \n",
      " 0   Id             1459 non-null   int64  \n",
      " 1   MSSubClass     1459 non-null   int64  \n",
      " 2   MSZoning       1455 non-null   object \n",
      " 3   LotFrontage    1232 non-null   float64\n",
      " 4   LotArea        1459 non-null   int64  \n",
      " 5   Street         1459 non-null   object \n",
      " 6   Alley          107 non-null    object \n",
      " 7   LotShape       1459 non-null   object \n",
      " 8   LandContour    1459 non-null   object \n",
      " 9   Utilities      1457 non-null   object \n",
      " 10  LotConfig      1459 non-null   object \n",
      " 11  LandSlope      1459 non-null   object \n",
      " 12  Neighborhood   1459 non-null   object \n",
      " 13  Condition1     1459 non-null   object \n",
      " 14  Condition2     1459 non-null   object \n",
      " 15  BldgType       1459 non-null   object \n",
      " 16  HouseStyle     1459 non-null   object \n",
      " 17  OverallQual    1459 non-null   int64  \n",
      " 18  OverallCond    1459 non-null   int64  \n",
      " 19  YearBuilt      1459 non-null   int64  \n",
      " 20  YearRemodAdd   1459 non-null   int64  \n",
      " 21  RoofStyle      1459 non-null   object \n",
      " 22  RoofMatl       1459 non-null   object \n",
      " 23  Exterior1st    1458 non-null   object \n",
      " 24  Exterior2nd    1458 non-null   object \n",
      " 25  MasVnrType     565 non-null    object \n",
      " 26  MasVnrArea     1444 non-null   float64\n",
      " 27  ExterQual      1459 non-null   object \n",
      " 28  ExterCond      1459 non-null   object \n",
      " 29  Foundation     1459 non-null   object \n",
      " 30  BsmtQual       1415 non-null   object \n",
      " 31  BsmtCond       1414 non-null   object \n",
      " 32  BsmtExposure   1415 non-null   object \n",
      " 33  BsmtFinType1   1417 non-null   object \n",
      " 34  BsmtFinSF1     1458 non-null   float64\n",
      " 35  BsmtFinType2   1417 non-null   object \n",
      " 36  BsmtFinSF2     1458 non-null   float64\n",
      " 37  BsmtUnfSF      1458 non-null   float64\n",
      " 38  TotalBsmtSF    1458 non-null   float64\n",
      " 39  Heating        1459 non-null   object \n",
      " 40  HeatingQC      1459 non-null   object \n",
      " 41  CentralAir     1459 non-null   object \n",
      " 42  Electrical     1459 non-null   object \n",
      " 43  1stFlrSF       1459 non-null   int64  \n",
      " 44  2ndFlrSF       1459 non-null   int64  \n",
      " 45  LowQualFinSF   1459 non-null   int64  \n",
      " 46  GrLivArea      1459 non-null   int64  \n",
      " 47  BsmtFullBath   1457 non-null   float64\n",
      " 48  BsmtHalfBath   1457 non-null   float64\n",
      " 49  FullBath       1459 non-null   int64  \n",
      " 50  HalfBath       1459 non-null   int64  \n",
      " 51  BedroomAbvGr   1459 non-null   int64  \n",
      " 52  KitchenAbvGr   1459 non-null   int64  \n",
      " 53  KitchenQual    1458 non-null   object \n",
      " 54  TotRmsAbvGrd   1459 non-null   int64  \n",
      " 55  Functional     1457 non-null   object \n",
      " 56  Fireplaces     1459 non-null   int64  \n",
      " 57  FireplaceQu    729 non-null    object \n",
      " 58  GarageType     1383 non-null   object \n",
      " 59  GarageYrBlt    1381 non-null   float64\n",
      " 60  GarageFinish   1381 non-null   object \n",
      " 61  GarageCars     1458 non-null   float64\n",
      " 62  GarageArea     1458 non-null   float64\n",
      " 63  GarageQual     1381 non-null   object \n",
      " 64  GarageCond     1381 non-null   object \n",
      " 65  PavedDrive     1459 non-null   object \n",
      " 66  WoodDeckSF     1459 non-null   int64  \n",
      " 67  OpenPorchSF    1459 non-null   int64  \n",
      " 68  EnclosedPorch  1459 non-null   int64  \n",
      " 69  3SsnPorch      1459 non-null   int64  \n",
      " 70  ScreenPorch    1459 non-null   int64  \n",
      " 71  PoolArea       1459 non-null   int64  \n",
      " 72  PoolQC         3 non-null      object \n",
      " 73  Fence          290 non-null    object \n",
      " 74  MiscFeature    51 non-null     object \n",
      " 75  MiscVal        1459 non-null   int64  \n",
      " 76  MoSold         1459 non-null   int64  \n",
      " 77  YrSold         1459 non-null   int64  \n",
      " 78  SaleType       1458 non-null   object \n",
      " 79  SaleCondition  1459 non-null   object \n",
      "dtypes: float64(11), int64(26), object(43)\n",
      "memory usage: 912.0+ KB\n"
     ]
    }
   ],
   "source": [
    "test_df.info()"
   ]
  },
  {
   "cell_type": "code",
   "execution_count": 4,
   "metadata": {
    "execution": {
     "iopub.execute_input": "2025-02-03T14:02:09.298323Z",
     "iopub.status.busy": "2025-02-03T14:02:09.297908Z",
     "iopub.status.idle": "2025-02-03T14:02:09.324142Z",
     "shell.execute_reply": "2025-02-03T14:02:09.322992Z",
     "shell.execute_reply.started": "2025-02-03T14:02:09.298294Z"
    },
    "trusted": true
   },
   "outputs": [
    {
     "data": {
      "text/plain": [
       "(1459, 80)"
      ]
     },
     "execution_count": 4,
     "metadata": {},
     "output_type": "execute_result"
    }
   ],
   "source": [
    "test_df.shape"
   ]
  },
  {
   "cell_type": "code",
   "execution_count": 5,
   "metadata": {
    "execution": {
     "iopub.execute_input": "2025-02-03T14:02:09.325624Z",
     "iopub.status.busy": "2025-02-03T14:02:09.325367Z",
     "iopub.status.idle": "2025-02-03T14:02:09.344258Z",
     "shell.execute_reply": "2025-02-03T14:02:09.343424Z",
     "shell.execute_reply.started": "2025-02-03T14:02:09.325600Z"
    },
    "trusted": true
   },
   "outputs": [],
   "source": [
    "def get_continuous_columns(df, unique_threshold=10):\n",
    "    \"\"\"\n",
    "    DataFrame에서 연속형 수치 변수를 찾는 함수\n",
    "    \n",
    "    Parameters:\n",
    "    -----------\n",
    "    df : pandas DataFrame\n",
    "        분석할 데이터프레임\n",
    "    unique_threshold : int, default=10\n",
    "        연속형으로 간주할 최소 unique 값 개수\n",
    "        \n",
    "    Returns:\n",
    "    --------\n",
    "    list : 조건을 만족하는 컬럼명 리스트\n",
    "    \"\"\"\n",
    "    \n",
    "    continuous_columns = []\n",
    "    \n",
    "    for col in df.columns:\n",
    "        # 1. object 타입이 아닌지 확인\n",
    "        is_numeric = df[col].dtype != 'object'\n",
    "        \n",
    "        # 2. 결측치가 없는지 확인\n",
    "        no_missing = df[col].isna().sum() == 0\n",
    "        \n",
    "        # 3. unique 값의 개수가 임계값보다 큰지 확인\n",
    "        enough_unique = df[col].nunique() >= unique_threshold\n",
    "        \n",
    "        # 모든 조건을 만족하면 리스트에 추가\n",
    "        if is_numeric and no_missing and enough_unique:\n",
    "            print(df[col].nunique())\n",
    "            continuous_columns.append(col)\n",
    "    \n",
    "    return continuous_columns"
   ]
  },
  {
   "cell_type": "code",
   "execution_count": 6,
   "metadata": {
    "execution": {
     "iopub.execute_input": "2025-02-03T14:02:09.345800Z",
     "iopub.status.busy": "2025-02-03T14:02:09.345426Z",
     "iopub.status.idle": "2025-02-03T14:02:09.404524Z",
     "shell.execute_reply": "2025-02-03T14:02:09.403242Z",
     "shell.execute_reply.started": "2025-02-03T14:02:09.345773Z"
    },
    "trusted": true
   },
   "outputs": [
    {
     "name": "stdout",
     "output_type": "stream",
     "text": [
      "1073\n",
      "112\n",
      "61\n",
      "637\n",
      "144\n",
      "780\n",
      "721\n",
      "753\n",
      "417\n",
      "861\n",
      "441\n",
      "274\n",
      "202\n",
      "120\n",
      "76\n",
      "연속형 변수: ['LotArea', 'YearBuilt', 'YearRemodAdd', 'BsmtFinSF1', 'BsmtFinSF2', 'BsmtUnfSF', 'TotalBsmtSF', '1stFlrSF', '2ndFlrSF', 'GrLivArea', 'GarageArea', 'WoodDeckSF', 'OpenPorchSF', 'EnclosedPorch', 'ScreenPorch']\n"
     ]
    }
   ],
   "source": [
    "target_column = 'SalePrice'\n",
    "\n",
    "continuous_cols = get_continuous_columns(train_df.drop(columns=['Id', target_column]), unique_threshold=50)\n",
    "print(\"연속형 변수:\", continuous_cols)"
   ]
  },
  {
   "cell_type": "code",
   "execution_count": 7,
   "metadata": {
    "execution": {
     "iopub.execute_input": "2025-02-03T14:02:09.405768Z",
     "iopub.status.busy": "2025-02-03T14:02:09.405473Z",
     "iopub.status.idle": "2025-02-03T14:02:09.416315Z",
     "shell.execute_reply": "2025-02-03T14:02:09.415062Z",
     "shell.execute_reply.started": "2025-02-03T14:02:09.405747Z"
    },
    "id": "R2rFHb7Oclon",
    "outputId": "56e2c020-5de4-4f9d-a140-48bf2ab786f9",
    "trusted": true
   },
   "outputs": [
    {
     "name": "stdout",
     "output_type": "stream",
     "text": [
      "<class 'pandas.core.frame.DataFrame'>\n",
      "RangeIndex: 1460 entries, 0 to 1459\n",
      "Data columns (total 15 columns):\n",
      " #   Column         Non-Null Count  Dtype\n",
      "---  ------         --------------  -----\n",
      " 0   LotArea        1460 non-null   int64\n",
      " 1   YearBuilt      1460 non-null   int64\n",
      " 2   YearRemodAdd   1460 non-null   int64\n",
      " 3   BsmtFinSF1     1460 non-null   int64\n",
      " 4   BsmtFinSF2     1460 non-null   int64\n",
      " 5   BsmtUnfSF      1460 non-null   int64\n",
      " 6   TotalBsmtSF    1460 non-null   int64\n",
      " 7   1stFlrSF       1460 non-null   int64\n",
      " 8   2ndFlrSF       1460 non-null   int64\n",
      " 9   GrLivArea      1460 non-null   int64\n",
      " 10  GarageArea     1460 non-null   int64\n",
      " 11  WoodDeckSF     1460 non-null   int64\n",
      " 12  OpenPorchSF    1460 non-null   int64\n",
      " 13  EnclosedPorch  1460 non-null   int64\n",
      " 14  ScreenPorch    1460 non-null   int64\n",
      "dtypes: int64(15)\n",
      "memory usage: 171.2 KB\n"
     ]
    }
   ],
   "source": [
    "feature_columns = continuous_cols # ['BsmtUnfSF','LowQualFinSF','HalfBath','Fireplaces']\n",
    "\n",
    "select_df = train_df[feature_columns]\n",
    "select_df.info()"
   ]
  },
  {
   "cell_type": "markdown",
   "metadata": {
    "id": "lUIiFIcKKIQr"
   },
   "source": [
    "\n",
    "## 데이터 전처리\n",
    "- 데이터 분석"
   ]
  },
  {
   "cell_type": "code",
   "execution_count": 8,
   "metadata": {
    "execution": {
     "iopub.execute_input": "2025-02-03T14:02:09.419121Z",
     "iopub.status.busy": "2025-02-03T14:02:09.418855Z",
     "iopub.status.idle": "2025-02-03T14:02:09.946327Z",
     "shell.execute_reply": "2025-02-03T14:02:09.945236Z",
     "shell.execute_reply.started": "2025-02-03T14:02:09.419081Z"
    },
    "id": "R7Tw58lEdWvw",
    "trusted": true
   },
   "outputs": [],
   "source": [
    "from sklearn.preprocessing import StandardScaler\n"
   ]
  },
  {
   "cell_type": "code",
   "execution_count": 9,
   "metadata": {
    "execution": {
     "iopub.execute_input": "2025-02-03T14:02:09.948284Z",
     "iopub.status.busy": "2025-02-03T14:02:09.947882Z",
     "iopub.status.idle": "2025-02-03T14:02:09.971088Z",
     "shell.execute_reply": "2025-02-03T14:02:09.970052Z",
     "shell.execute_reply.started": "2025-02-03T14:02:09.948263Z"
    },
    "id": "ySUVxApkdarf",
    "outputId": "c4ffcbe2-1e6b-4e20-e698-eee21aa099b1",
    "trusted": true
   },
   "outputs": [
    {
     "data": {
      "text/html": [
       "<style>#sk-container-id-1 {color: black;background-color: white;}#sk-container-id-1 pre{padding: 0;}#sk-container-id-1 div.sk-toggleable {background-color: white;}#sk-container-id-1 label.sk-toggleable__label {cursor: pointer;display: block;width: 100%;margin-bottom: 0;padding: 0.3em;box-sizing: border-box;text-align: center;}#sk-container-id-1 label.sk-toggleable__label-arrow:before {content: \"▸\";float: left;margin-right: 0.25em;color: #696969;}#sk-container-id-1 label.sk-toggleable__label-arrow:hover:before {color: black;}#sk-container-id-1 div.sk-estimator:hover label.sk-toggleable__label-arrow:before {color: black;}#sk-container-id-1 div.sk-toggleable__content {max-height: 0;max-width: 0;overflow: hidden;text-align: left;background-color: #f0f8ff;}#sk-container-id-1 div.sk-toggleable__content pre {margin: 0.2em;color: black;border-radius: 0.25em;background-color: #f0f8ff;}#sk-container-id-1 input.sk-toggleable__control:checked~div.sk-toggleable__content {max-height: 200px;max-width: 100%;overflow: auto;}#sk-container-id-1 input.sk-toggleable__control:checked~label.sk-toggleable__label-arrow:before {content: \"▾\";}#sk-container-id-1 div.sk-estimator input.sk-toggleable__control:checked~label.sk-toggleable__label {background-color: #d4ebff;}#sk-container-id-1 div.sk-label input.sk-toggleable__control:checked~label.sk-toggleable__label {background-color: #d4ebff;}#sk-container-id-1 input.sk-hidden--visually {border: 0;clip: rect(1px 1px 1px 1px);clip: rect(1px, 1px, 1px, 1px);height: 1px;margin: -1px;overflow: hidden;padding: 0;position: absolute;width: 1px;}#sk-container-id-1 div.sk-estimator {font-family: monospace;background-color: #f0f8ff;border: 1px dotted black;border-radius: 0.25em;box-sizing: border-box;margin-bottom: 0.5em;}#sk-container-id-1 div.sk-estimator:hover {background-color: #d4ebff;}#sk-container-id-1 div.sk-parallel-item::after {content: \"\";width: 100%;border-bottom: 1px solid gray;flex-grow: 1;}#sk-container-id-1 div.sk-label:hover label.sk-toggleable__label {background-color: #d4ebff;}#sk-container-id-1 div.sk-serial::before {content: \"\";position: absolute;border-left: 1px solid gray;box-sizing: border-box;top: 0;bottom: 0;left: 50%;z-index: 0;}#sk-container-id-1 div.sk-serial {display: flex;flex-direction: column;align-items: center;background-color: white;padding-right: 0.2em;padding-left: 0.2em;position: relative;}#sk-container-id-1 div.sk-item {position: relative;z-index: 1;}#sk-container-id-1 div.sk-parallel {display: flex;align-items: stretch;justify-content: center;background-color: white;position: relative;}#sk-container-id-1 div.sk-item::before, #sk-container-id-1 div.sk-parallel-item::before {content: \"\";position: absolute;border-left: 1px solid gray;box-sizing: border-box;top: 0;bottom: 0;left: 50%;z-index: -1;}#sk-container-id-1 div.sk-parallel-item {display: flex;flex-direction: column;z-index: 1;position: relative;background-color: white;}#sk-container-id-1 div.sk-parallel-item:first-child::after {align-self: flex-end;width: 50%;}#sk-container-id-1 div.sk-parallel-item:last-child::after {align-self: flex-start;width: 50%;}#sk-container-id-1 div.sk-parallel-item:only-child::after {width: 0;}#sk-container-id-1 div.sk-dashed-wrapped {border: 1px dashed gray;margin: 0 0.4em 0.5em 0.4em;box-sizing: border-box;padding-bottom: 0.4em;background-color: white;}#sk-container-id-1 div.sk-label label {font-family: monospace;font-weight: bold;display: inline-block;line-height: 1.2em;}#sk-container-id-1 div.sk-label-container {text-align: center;}#sk-container-id-1 div.sk-container {/* jupyter's `normalize.less` sets `[hidden] { display: none; }` but bootstrap.min.css set `[hidden] { display: none !important; }` so we also need the `!important` here to be able to override the default hidden behavior on the sphinx rendered scikit-learn.org. See: https://github.com/scikit-learn/scikit-learn/issues/21755 */display: inline-block !important;position: relative;}#sk-container-id-1 div.sk-text-repr-fallback {display: none;}</style><div id=\"sk-container-id-1\" class=\"sk-top-container\"><div class=\"sk-text-repr-fallback\"><pre>StandardScaler()</pre><b>In a Jupyter environment, please rerun this cell to show the HTML representation or trust the notebook. <br />On GitHub, the HTML representation is unable to render, please try loading this page with nbviewer.org.</b></div><div class=\"sk-container\" hidden><div class=\"sk-item\"><div class=\"sk-estimator sk-toggleable\"><input class=\"sk-toggleable__control sk-hidden--visually\" id=\"sk-estimator-id-1\" type=\"checkbox\" checked><label for=\"sk-estimator-id-1\" class=\"sk-toggleable__label sk-toggleable__label-arrow\">StandardScaler</label><div class=\"sk-toggleable__content\"><pre>StandardScaler()</pre></div></div></div></div></div>"
      ],
      "text/plain": [
       "StandardScaler()"
      ]
     },
     "execution_count": 9,
     "metadata": {},
     "output_type": "execute_result"
    }
   ],
   "source": [
    "standardscaler_feature = StandardScaler()\n",
    "standardscaler_feature.fit(select_df)"
   ]
  },
  {
   "cell_type": "code",
   "execution_count": 10,
   "metadata": {
    "execution": {
     "iopub.execute_input": "2025-02-03T14:02:09.972694Z",
     "iopub.status.busy": "2025-02-03T14:02:09.972400Z",
     "iopub.status.idle": "2025-02-03T14:02:09.981560Z",
     "shell.execute_reply": "2025-02-03T14:02:09.980613Z",
     "shell.execute_reply.started": "2025-02-03T14:02:09.972667Z"
    },
    "id": "WpxjMUUBdgk3",
    "trusted": true
   },
   "outputs": [],
   "source": [
    "scailing_array_feature = standardscaler_feature.transform(select_df)"
   ]
  },
  {
   "cell_type": "code",
   "execution_count": 11,
   "metadata": {
    "execution": {
     "iopub.execute_input": "2025-02-03T14:02:09.982402Z",
     "iopub.status.busy": "2025-02-03T14:02:09.982183Z",
     "iopub.status.idle": "2025-02-03T14:02:09.993846Z",
     "shell.execute_reply": "2025-02-03T14:02:09.992992Z",
     "shell.execute_reply.started": "2025-02-03T14:02:09.982383Z"
    },
    "id": "dIeJUmN_dvBY",
    "outputId": "72a5145b-14b6-4cda-9591-632509e18700",
    "trusted": true
   },
   "outputs": [
    {
     "data": {
      "text/plain": [
       "((1460, 15), numpy.ndarray)"
      ]
     },
     "execution_count": 11,
     "metadata": {},
     "output_type": "execute_result"
    }
   ],
   "source": [
    "scailing_array_feature.shape, type(scailing_array_feature)"
   ]
  },
  {
   "cell_type": "code",
   "execution_count": 12,
   "metadata": {
    "execution": {
     "iopub.execute_input": "2025-02-03T14:02:09.994856Z",
     "iopub.status.busy": "2025-02-03T14:02:09.994609Z",
     "iopub.status.idle": "2025-02-03T14:02:10.020335Z",
     "shell.execute_reply": "2025-02-03T14:02:10.018879Z",
     "shell.execute_reply.started": "2025-02-03T14:02:09.994833Z"
    },
    "trusted": true
   },
   "outputs": [
    {
     "data": {
      "text/plain": [
       "(1460, 1)"
      ]
     },
     "execution_count": 12,
     "metadata": {},
     "output_type": "execute_result"
    }
   ],
   "source": [
    "y_train = train_df[target_column].values.reshape(-1, 1)  # 2차원 배열로 변환\n",
    "\n",
    "y_train.shape"
   ]
  },
  {
   "cell_type": "code",
   "execution_count": 13,
   "metadata": {
    "execution": {
     "iopub.execute_input": "2025-02-03T14:02:10.021640Z",
     "iopub.status.busy": "2025-02-03T14:02:10.021318Z",
     "iopub.status.idle": "2025-02-03T14:02:10.046770Z",
     "shell.execute_reply": "2025-02-03T14:02:10.045145Z",
     "shell.execute_reply.started": "2025-02-03T14:02:10.021605Z"
    },
    "trusted": true
   },
   "outputs": [
    {
     "data": {
      "text/html": [
       "<style>#sk-container-id-2 {color: black;background-color: white;}#sk-container-id-2 pre{padding: 0;}#sk-container-id-2 div.sk-toggleable {background-color: white;}#sk-container-id-2 label.sk-toggleable__label {cursor: pointer;display: block;width: 100%;margin-bottom: 0;padding: 0.3em;box-sizing: border-box;text-align: center;}#sk-container-id-2 label.sk-toggleable__label-arrow:before {content: \"▸\";float: left;margin-right: 0.25em;color: #696969;}#sk-container-id-2 label.sk-toggleable__label-arrow:hover:before {color: black;}#sk-container-id-2 div.sk-estimator:hover label.sk-toggleable__label-arrow:before {color: black;}#sk-container-id-2 div.sk-toggleable__content {max-height: 0;max-width: 0;overflow: hidden;text-align: left;background-color: #f0f8ff;}#sk-container-id-2 div.sk-toggleable__content pre {margin: 0.2em;color: black;border-radius: 0.25em;background-color: #f0f8ff;}#sk-container-id-2 input.sk-toggleable__control:checked~div.sk-toggleable__content {max-height: 200px;max-width: 100%;overflow: auto;}#sk-container-id-2 input.sk-toggleable__control:checked~label.sk-toggleable__label-arrow:before {content: \"▾\";}#sk-container-id-2 div.sk-estimator input.sk-toggleable__control:checked~label.sk-toggleable__label {background-color: #d4ebff;}#sk-container-id-2 div.sk-label input.sk-toggleable__control:checked~label.sk-toggleable__label {background-color: #d4ebff;}#sk-container-id-2 input.sk-hidden--visually {border: 0;clip: rect(1px 1px 1px 1px);clip: rect(1px, 1px, 1px, 1px);height: 1px;margin: -1px;overflow: hidden;padding: 0;position: absolute;width: 1px;}#sk-container-id-2 div.sk-estimator {font-family: monospace;background-color: #f0f8ff;border: 1px dotted black;border-radius: 0.25em;box-sizing: border-box;margin-bottom: 0.5em;}#sk-container-id-2 div.sk-estimator:hover {background-color: #d4ebff;}#sk-container-id-2 div.sk-parallel-item::after {content: \"\";width: 100%;border-bottom: 1px solid gray;flex-grow: 1;}#sk-container-id-2 div.sk-label:hover label.sk-toggleable__label {background-color: #d4ebff;}#sk-container-id-2 div.sk-serial::before {content: \"\";position: absolute;border-left: 1px solid gray;box-sizing: border-box;top: 0;bottom: 0;left: 50%;z-index: 0;}#sk-container-id-2 div.sk-serial {display: flex;flex-direction: column;align-items: center;background-color: white;padding-right: 0.2em;padding-left: 0.2em;position: relative;}#sk-container-id-2 div.sk-item {position: relative;z-index: 1;}#sk-container-id-2 div.sk-parallel {display: flex;align-items: stretch;justify-content: center;background-color: white;position: relative;}#sk-container-id-2 div.sk-item::before, #sk-container-id-2 div.sk-parallel-item::before {content: \"\";position: absolute;border-left: 1px solid gray;box-sizing: border-box;top: 0;bottom: 0;left: 50%;z-index: -1;}#sk-container-id-2 div.sk-parallel-item {display: flex;flex-direction: column;z-index: 1;position: relative;background-color: white;}#sk-container-id-2 div.sk-parallel-item:first-child::after {align-self: flex-end;width: 50%;}#sk-container-id-2 div.sk-parallel-item:last-child::after {align-self: flex-start;width: 50%;}#sk-container-id-2 div.sk-parallel-item:only-child::after {width: 0;}#sk-container-id-2 div.sk-dashed-wrapped {border: 1px dashed gray;margin: 0 0.4em 0.5em 0.4em;box-sizing: border-box;padding-bottom: 0.4em;background-color: white;}#sk-container-id-2 div.sk-label label {font-family: monospace;font-weight: bold;display: inline-block;line-height: 1.2em;}#sk-container-id-2 div.sk-label-container {text-align: center;}#sk-container-id-2 div.sk-container {/* jupyter's `normalize.less` sets `[hidden] { display: none; }` but bootstrap.min.css set `[hidden] { display: none !important; }` so we also need the `!important` here to be able to override the default hidden behavior on the sphinx rendered scikit-learn.org. See: https://github.com/scikit-learn/scikit-learn/issues/21755 */display: inline-block !important;position: relative;}#sk-container-id-2 div.sk-text-repr-fallback {display: none;}</style><div id=\"sk-container-id-2\" class=\"sk-top-container\"><div class=\"sk-text-repr-fallback\"><pre>StandardScaler()</pre><b>In a Jupyter environment, please rerun this cell to show the HTML representation or trust the notebook. <br />On GitHub, the HTML representation is unable to render, please try loading this page with nbviewer.org.</b></div><div class=\"sk-container\" hidden><div class=\"sk-item\"><div class=\"sk-estimator sk-toggleable\"><input class=\"sk-toggleable__control sk-hidden--visually\" id=\"sk-estimator-id-2\" type=\"checkbox\" checked><label for=\"sk-estimator-id-2\" class=\"sk-toggleable__label sk-toggleable__label-arrow\">StandardScaler</label><div class=\"sk-toggleable__content\"><pre>StandardScaler()</pre></div></div></div></div></div>"
      ],
      "text/plain": [
       "StandardScaler()"
      ]
     },
     "execution_count": 13,
     "metadata": {},
     "output_type": "execute_result"
    }
   ],
   "source": [
    "standardscaler_label = StandardScaler()\n",
    "standardscaler_label.fit(y_train)"
   ]
  },
  {
   "cell_type": "code",
   "execution_count": 14,
   "metadata": {
    "execution": {
     "iopub.execute_input": "2025-02-03T14:02:10.048039Z",
     "iopub.status.busy": "2025-02-03T14:02:10.047734Z",
     "iopub.status.idle": "2025-02-03T14:02:10.068879Z",
     "shell.execute_reply": "2025-02-03T14:02:10.067687Z",
     "shell.execute_reply.started": "2025-02-03T14:02:10.048016Z"
    },
    "trusted": true
   },
   "outputs": [],
   "source": [
    "scailing_array_label = standardscaler_label.transform(y_train)"
   ]
  },
  {
   "cell_type": "code",
   "execution_count": 15,
   "metadata": {
    "execution": {
     "iopub.execute_input": "2025-02-03T14:02:10.069962Z",
     "iopub.status.busy": "2025-02-03T14:02:10.069735Z",
     "iopub.status.idle": "2025-02-03T14:02:10.094941Z",
     "shell.execute_reply": "2025-02-03T14:02:10.093953Z",
     "shell.execute_reply.started": "2025-02-03T14:02:10.069943Z"
    },
    "id": "LjohlSYsewQ4",
    "outputId": "c6f57e30-be06-4775-dcd9-d75d30f2aee1",
    "trusted": true
   },
   "outputs": [
    {
     "data": {
      "text/plain": [
       "(array([ 0.3606161 ,  0.71978635,  0.49103992,  0.63244965, -0.28865283,\n",
       "        -1.13928601, -0.59611547, -0.94869107,  0.50187469, -0.29214465,\n",
       "         0.03284429, -0.43293146, -0.25153911, -0.3593249 , -0.27020835]),\n",
       " array([-0.47750496]))"
      ]
     },
     "execution_count": 15,
     "metadata": {},
     "output_type": "execute_result"
    }
   ],
   "source": [
    "scailing_array_feature[5], scailing_array_label[5]"
   ]
  },
  {
   "cell_type": "markdown",
   "metadata": {
    "id": "ZFwb3gUXKenT"
   },
   "source": [
    "## 데이터 분할\n",
    "- train, test, validation"
   ]
  },
  {
   "cell_type": "code",
   "execution_count": 16,
   "metadata": {
    "execution": {
     "iopub.execute_input": "2025-02-03T14:02:10.096223Z",
     "iopub.status.busy": "2025-02-03T14:02:10.095955Z",
     "iopub.status.idle": "2025-02-03T14:02:10.251929Z",
     "shell.execute_reply": "2025-02-03T14:02:10.251122Z",
     "shell.execute_reply.started": "2025-02-03T14:02:10.096203Z"
    },
    "id": "osqNG8_bdpo_",
    "trusted": true
   },
   "outputs": [],
   "source": [
    "from sklearn.model_selection import train_test_split\n"
   ]
  },
  {
   "cell_type": "code",
   "execution_count": 17,
   "metadata": {
    "execution": {
     "iopub.execute_input": "2025-02-03T14:02:10.252986Z",
     "iopub.status.busy": "2025-02-03T14:02:10.252683Z",
     "iopub.status.idle": "2025-02-03T14:02:10.260235Z",
     "shell.execute_reply": "2025-02-03T14:02:10.259446Z",
     "shell.execute_reply.started": "2025-02-03T14:02:10.252957Z"
    },
    "id": "tQoAhHt6do6P",
    "outputId": "27cdfac7-111f-4c9c-8ffa-34afa3c36f6f",
    "trusted": true
   },
   "outputs": [
    {
     "data": {
      "text/plain": [
       "((1168, 15), (292, 15), (1168, 1), (292, 1))"
      ]
     },
     "execution_count": 17,
     "metadata": {},
     "output_type": "execute_result"
    }
   ],
   "source": [
    "train_features, test_features, train_label, test_label =\\\n",
    "      train_test_split(scailing_array_feature, scailing_array_label, test_size=0.2, random_state=42)\n",
    "train_features.shape, test_features.shape, train_label.shape, test_label.shape"
   ]
  },
  {
   "cell_type": "code",
   "execution_count": 18,
   "metadata": {
    "execution": {
     "iopub.execute_input": "2025-02-03T14:02:10.261744Z",
     "iopub.status.busy": "2025-02-03T14:02:10.261358Z",
     "iopub.status.idle": "2025-02-03T14:02:12.102068Z",
     "shell.execute_reply": "2025-02-03T14:02:12.100741Z",
     "shell.execute_reply.started": "2025-02-03T14:02:10.261708Z"
    },
    "id": "AB77Um8oLaTi",
    "trusted": true
   },
   "outputs": [],
   "source": [
    "import torch"
   ]
  },
  {
   "cell_type": "code",
   "execution_count": 19,
   "metadata": {
    "execution": {
     "iopub.execute_input": "2025-02-03T14:02:12.103807Z",
     "iopub.status.busy": "2025-02-03T14:02:12.103340Z",
     "iopub.status.idle": "2025-02-03T14:02:12.148947Z",
     "shell.execute_reply": "2025-02-03T14:02:12.148197Z",
     "shell.execute_reply.started": "2025-02-03T14:02:12.103785Z"
    },
    "id": "5dQppqhSLeyT",
    "outputId": "c2777620-bf08-4e48-dfd2-06184a48acae",
    "trusted": true
   },
   "outputs": [
    {
     "data": {
      "text/plain": [
       "(torch.Tensor, torch.Tensor)"
      ]
     },
     "execution_count": 19,
     "metadata": {},
     "output_type": "execute_result"
    }
   ],
   "source": [
    "train_features_tensor = torch.tensor(train_features, dtype=torch.float32)\n",
    "train_label_tensor = torch.tensor(train_label, dtype=torch.float32).view(-1,1) # 행만 있는 경우 행열로 변환 해줌\n",
    "# test_features_tensor = torch.tensor(test_features)\n",
    "# test_label_tensor = torch.tensor(test_label)\n",
    "type(train_features_tensor), type(train_label_tensor)"
   ]
  },
  {
   "cell_type": "code",
   "execution_count": 20,
   "metadata": {
    "execution": {
     "iopub.execute_input": "2025-02-03T14:02:12.149954Z",
     "iopub.status.busy": "2025-02-03T14:02:12.149740Z",
     "iopub.status.idle": "2025-02-03T14:02:12.154683Z",
     "shell.execute_reply": "2025-02-03T14:02:12.153771Z",
     "shell.execute_reply.started": "2025-02-03T14:02:12.149935Z"
    },
    "id": "IAKGOWdPL8y0",
    "outputId": "90fe11d3-410b-418f-bf00-ae4f73510cc6",
    "trusted": true
   },
   "outputs": [
    {
     "data": {
      "text/plain": [
       "(torch.Size([1168, 15]), torch.Size([1168, 1]))"
      ]
     },
     "execution_count": 20,
     "metadata": {},
     "output_type": "execute_result"
    }
   ],
   "source": [
    "train_features_tensor.shape, train_label_tensor.shape"
   ]
  },
  {
   "cell_type": "markdown",
   "metadata": {
    "id": "6f789iE6Klfr"
   },
   "source": [
    "## 모델 학습\n",
    "\n"
   ]
  },
  {
   "cell_type": "code",
   "execution_count": 21,
   "metadata": {
    "execution": {
     "iopub.execute_input": "2025-02-03T14:02:12.155613Z",
     "iopub.status.busy": "2025-02-03T14:02:12.155383Z",
     "iopub.status.idle": "2025-02-03T14:02:12.180179Z",
     "shell.execute_reply": "2025-02-03T14:02:12.179064Z",
     "shell.execute_reply.started": "2025-02-03T14:02:12.155594Z"
    },
    "id": "tKYtxnRpMI4k",
    "trusted": true
   },
   "outputs": [],
   "source": [
    "# Neural Network model linear regression\n",
    "# model, loss function, optimizer function\n",
    "class LinearRegressionNNM(torch.nn.Module) :\n",
    "    def __init__(self, input_dim): # input : feature 의 열 갯수\n",
    "        super(LinearRegressionNNM, self).__init__()\n",
    "        # super(self).__init__()\n",
    "        self.hidden_1 = torch.nn.Linear(input_dim, 64) # input_dim : feature 수 10개, output_dim : 출력 수 64 개\n",
    "        self.hidden_2 = torch.nn.Linear(64, 32) # input_dim : 이전 layer output_dim 수 64개, output_dim : 출력 수 32 개\n",
    "        self.hidden_3 = torch.nn.Linear(32, 16) # input_dim : 이전 layer output_dim 수 32, output_dim : 출력 수 16 개\n",
    "        self.output = torch.nn.Linear(16, 1) # input_dim : 이전 layer output_dim 수 16, output_dim : 출력 수 1 개 Linear 니까\n",
    "        self.relu = torch.nn.ReLU() # activation func ReLU 쓸거임. \n",
    "\n",
    "    def forward(self, x):\n",
    "        x = self.relu(self.hidden_1(x)) # hidden layer 1 10,64\n",
    "        x = self.relu(self.hidden_2(x)) # hidden layer 2 64,32\n",
    "        x = self.relu(self.hidden_3(x)) # hidden layer 3 32,16\n",
    "        out = self.output(x) # hidden layer 4 16,1 result \n",
    "        \n",
    "        return out\n"
   ]
  },
  {
   "cell_type": "code",
   "execution_count": 22,
   "metadata": {
    "execution": {
     "iopub.execute_input": "2025-02-03T14:02:12.181291Z",
     "iopub.status.busy": "2025-02-03T14:02:12.181044Z",
     "iopub.status.idle": "2025-02-03T14:02:12.210199Z",
     "shell.execute_reply": "2025-02-03T14:02:12.208816Z",
     "shell.execute_reply.started": "2025-02-03T14:02:12.181273Z"
    },
    "id": "8Lw855O9OUTk",
    "outputId": "3b5c21f7-6071-4966-fcf2-1a230b3d9910",
    "trusted": true
   },
   "outputs": [
    {
     "data": {
      "text/plain": [
       "(15, 1)"
      ]
     },
     "execution_count": 22,
     "metadata": {},
     "output_type": "execute_result"
    }
   ],
   "source": [
    "train_features_tensor.shape[1], train_label_tensor.shape[1]"
   ]
  },
  {
   "cell_type": "code",
   "execution_count": 23,
   "metadata": {
    "execution": {
     "iopub.execute_input": "2025-02-03T14:02:12.213838Z",
     "iopub.status.busy": "2025-02-03T14:02:12.213534Z",
     "iopub.status.idle": "2025-02-03T14:02:12.242702Z",
     "shell.execute_reply": "2025-02-03T14:02:12.241869Z",
     "shell.execute_reply.started": "2025-02-03T14:02:12.213809Z"
    },
    "id": "umcPAfVsOLXE",
    "trusted": true
   },
   "outputs": [],
   "source": [
    "model = LinearRegressionNNM(train_features_tensor.shape[1])"
   ]
  },
  {
   "cell_type": "code",
   "execution_count": 24,
   "metadata": {
    "execution": {
     "iopub.execute_input": "2025-02-03T14:02:12.244748Z",
     "iopub.status.busy": "2025-02-03T14:02:12.244375Z",
     "iopub.status.idle": "2025-02-03T14:02:12.250518Z",
     "shell.execute_reply": "2025-02-03T14:02:12.249223Z",
     "shell.execute_reply.started": "2025-02-03T14:02:12.244720Z"
    },
    "id": "X1haY7fgPN9b",
    "outputId": "c80deac1-4ff3-413e-dd8c-2bef4354527c",
    "trusted": true
   },
   "outputs": [
    {
     "data": {
      "text/plain": [
       "LinearRegressionNNM(\n",
       "  (hidden_1): Linear(in_features=15, out_features=64, bias=True)\n",
       "  (hidden_2): Linear(in_features=64, out_features=32, bias=True)\n",
       "  (hidden_3): Linear(in_features=32, out_features=16, bias=True)\n",
       "  (output): Linear(in_features=16, out_features=1, bias=True)\n",
       "  (relu): ReLU()\n",
       ")"
      ]
     },
     "execution_count": 24,
     "metadata": {},
     "output_type": "execute_result"
    }
   ],
   "source": [
    "model"
   ]
  },
  {
   "cell_type": "code",
   "execution_count": 25,
   "metadata": {
    "execution": {
     "iopub.execute_input": "2025-02-03T14:02:12.251561Z",
     "iopub.status.busy": "2025-02-03T14:02:12.251294Z",
     "iopub.status.idle": "2025-02-03T14:02:14.498986Z",
     "shell.execute_reply": "2025-02-03T14:02:14.497559Z",
     "shell.execute_reply.started": "2025-02-03T14:02:12.251541Z"
    },
    "id": "J83domFsVd1-",
    "trusted": true
   },
   "outputs": [],
   "source": [
    "criterion = torch.nn.MSELoss() # Loss function 거의 label 타입에 따라 결정됨\n",
    "# optimizer = torch.optim.SGD(model.parameters(), lr=0.01) # Optimizer fuction\n",
    "optimizer = torch.optim.Adam(model.parameters(), lr=0.001) # Optimizer fuction"
   ]
  },
  {
   "cell_type": "code",
   "execution_count": 40,
   "metadata": {
    "execution": {
     "iopub.execute_input": "2025-02-03T14:05:06.914955Z",
     "iopub.status.busy": "2025-02-03T14:05:06.914639Z",
     "iopub.status.idle": "2025-02-03T14:05:08.596204Z",
     "shell.execute_reply": "2025-02-03T14:05:08.595124Z",
     "shell.execute_reply.started": "2025-02-03T14:05:06.914935Z"
    },
    "id": "dRH4rddcWqSm",
    "outputId": "72d67b3e-2673-499d-e1ed-aeaeb3eb96ac",
    "trusted": true
   },
   "outputs": [
    {
     "name": "stdout",
     "output_type": "stream",
     "text": [
      "epoch : 0, loss : 0.0197906494140625\n",
      "epoch : 100, loss : 0.017909087240695953\n",
      "epoch : 200, loss : 0.0166016798466444\n",
      "epoch : 300, loss : 0.014867312274873257\n",
      "epoch : 400, loss : 0.01377211045473814\n",
      "epoch : 500, loss : 0.01279403269290924\n",
      "epoch : 600, loss : 0.012238920666277409\n",
      "epoch : 700, loss : 0.011632556095719337\n",
      "epoch : 800, loss : 0.01071153488010168\n",
      "epoch : 900, loss : 0.010114259086549282\n"
     ]
    }
   ],
   "source": [
    "## 반복 학습\n",
    "# loss 가 한자리 까지 줄어야 해\n",
    "# for epoch in range(10):\n",
    "for epoch in range(1000):\n",
    "# for epoch in range(100000):\n",
    "    pred_y = model.forward(train_features_tensor)\n",
    "    loss = criterion(pred_y, train_label_tensor)\n",
    "    optimizer.zero_grad()\n",
    "    loss.backward()\n",
    "    optimizer.step()\n",
    "\n",
    "    if epoch % 100 == 0:\n",
    "        print(f\"epoch : {epoch}, loss : {loss.item()}\")\n",
    "    # print(f\"epoch : {epoch}, loss : {loss.item()}\")\n",
    "    \n",
    "\n"
   ]
  },
  {
   "cell_type": "code",
   "execution_count": 41,
   "metadata": {
    "execution": {
     "iopub.execute_input": "2025-02-03T14:05:45.876657Z",
     "iopub.status.busy": "2025-02-03T14:05:45.876255Z",
     "iopub.status.idle": "2025-02-03T14:05:45.883955Z",
     "shell.execute_reply": "2025-02-03T14:05:45.882696Z",
     "shell.execute_reply.started": "2025-02-03T14:05:45.876622Z"
    },
    "trusted": true
   },
   "outputs": [
    {
     "data": {
      "text/plain": [
       "(torch.Size([64, 15]), torch.Size([64]))"
      ]
     },
     "execution_count": 41,
     "metadata": {},
     "output_type": "execute_result"
    }
   ],
   "source": [
    "model.state_dict()['hidden_1.weight'].shape, model.state_dict()['hidden_1.bias'].shape"
   ]
  },
  {
   "cell_type": "code",
   "execution_count": 42,
   "metadata": {
    "execution": {
     "iopub.execute_input": "2025-02-03T14:05:48.368534Z",
     "iopub.status.busy": "2025-02-03T14:05:48.368207Z",
     "iopub.status.idle": "2025-02-03T14:05:48.374037Z",
     "shell.execute_reply": "2025-02-03T14:05:48.373204Z",
     "shell.execute_reply.started": "2025-02-03T14:05:48.368513Z"
    },
    "trusted": true
   },
   "outputs": [
    {
     "data": {
      "text/plain": [
       "(torch.Size([1, 16]), torch.Size([1]))"
      ]
     },
     "execution_count": 42,
     "metadata": {},
     "output_type": "execute_result"
    }
   ],
   "source": [
    "model.state_dict()['output.weight'].shape, model.state_dict()['output.bias'].shape"
   ]
  },
  {
   "cell_type": "markdown",
   "metadata": {
    "id": "1nvzhmSzKmhL"
   },
   "source": [
    "## 모델 평가\n",
    "\n"
   ]
  },
  {
   "cell_type": "code",
   "execution_count": 27,
   "metadata": {
    "execution": {
     "iopub.execute_input": "2025-02-03T14:02:16.218483Z",
     "iopub.status.busy": "2025-02-03T14:02:16.218198Z",
     "iopub.status.idle": "2025-02-03T14:02:16.224829Z",
     "shell.execute_reply": "2025-02-03T14:02:16.223582Z",
     "shell.execute_reply.started": "2025-02-03T14:02:16.218453Z"
    },
    "id": "YxtyxKJPYpP-",
    "outputId": "341ab7cd-d049-4e78-c2b2-b3f5306d8d49",
    "trusted": true
   },
   "outputs": [
    {
     "data": {
      "text/plain": [
       "LinearRegressionNNM(\n",
       "  (hidden_1): Linear(in_features=15, out_features=64, bias=True)\n",
       "  (hidden_2): Linear(in_features=64, out_features=32, bias=True)\n",
       "  (hidden_3): Linear(in_features=32, out_features=16, bias=True)\n",
       "  (output): Linear(in_features=16, out_features=1, bias=True)\n",
       "  (relu): ReLU()\n",
       ")"
      ]
     },
     "execution_count": 27,
     "metadata": {},
     "output_type": "execute_result"
    }
   ],
   "source": [
    "model.eval()"
   ]
  },
  {
   "cell_type": "code",
   "execution_count": 28,
   "metadata": {
    "execution": {
     "iopub.execute_input": "2025-02-03T14:02:16.226192Z",
     "iopub.status.busy": "2025-02-03T14:02:16.225866Z",
     "iopub.status.idle": "2025-02-03T14:02:16.249651Z",
     "shell.execute_reply": "2025-02-03T14:02:16.248816Z",
     "shell.execute_reply.started": "2025-02-03T14:02:16.226152Z"
    },
    "id": "3aIcWupFYt-X",
    "outputId": "00f3bdd9-702d-4055-b1dd-df15f7d2725a",
    "trusted": true
   },
   "outputs": [
    {
     "name": "stdout",
     "output_type": "stream",
     "text": [
      "loss : 0.0197906494140625\n"
     ]
    }
   ],
   "source": [
    "with torch.no_grad(): # 학습 목정이 아닌 평가 목적 위해 고정\n",
    "    pred_y = model(train_features_tensor)\n",
    "    loss = criterion(pred_y, train_label_tensor) # 예측도 간은 loss function\n",
    "    print(f\"loss : {loss.item()}\")\n"
   ]
  },
  {
   "cell_type": "code",
   "execution_count": 29,
   "metadata": {
    "execution": {
     "iopub.execute_input": "2025-02-03T14:02:16.250673Z",
     "iopub.status.busy": "2025-02-03T14:02:16.250411Z",
     "iopub.status.idle": "2025-02-03T14:02:16.297490Z",
     "shell.execute_reply": "2025-02-03T14:02:16.295944Z",
     "shell.execute_reply.started": "2025-02-03T14:02:16.250649Z"
    },
    "trusted": true
   },
   "outputs": [
    {
     "data": {
      "text/plain": [
       "(tensor([-0.5058]), array([-0.45232089]))"
      ]
     },
     "execution_count": 29,
     "metadata": {},
     "output_type": "execute_result"
    }
   ],
   "source": [
    "# 결과 값(예측값, 원래값)\n",
    "pred_y[0], train_label[0]"
   ]
  },
  {
   "cell_type": "markdown",
   "metadata": {
    "id": "SMKe4XqnKoYC"
   },
   "source": [
    "## 모델 제출"
   ]
  },
  {
   "cell_type": "code",
   "execution_count": 30,
   "metadata": {
    "execution": {
     "iopub.execute_input": "2025-02-03T14:02:16.298993Z",
     "iopub.status.busy": "2025-02-03T14:02:16.298726Z",
     "iopub.status.idle": "2025-02-03T14:02:16.310447Z",
     "shell.execute_reply": "2025-02-03T14:02:16.309558Z",
     "shell.execute_reply.started": "2025-02-03T14:02:16.298973Z"
    },
    "trusted": true
   },
   "outputs": [
    {
     "name": "stdout",
     "output_type": "stream",
     "text": [
      "<class 'pandas.core.frame.DataFrame'>\n",
      "RangeIndex: 1459 entries, 0 to 1458\n",
      "Data columns (total 15 columns):\n",
      " #   Column         Non-Null Count  Dtype  \n",
      "---  ------         --------------  -----  \n",
      " 0   LotArea        1459 non-null   int64  \n",
      " 1   YearBuilt      1459 non-null   int64  \n",
      " 2   YearRemodAdd   1459 non-null   int64  \n",
      " 3   BsmtFinSF1     1458 non-null   float64\n",
      " 4   BsmtFinSF2     1458 non-null   float64\n",
      " 5   BsmtUnfSF      1458 non-null   float64\n",
      " 6   TotalBsmtSF    1458 non-null   float64\n",
      " 7   1stFlrSF       1459 non-null   int64  \n",
      " 8   2ndFlrSF       1459 non-null   int64  \n",
      " 9   GrLivArea      1459 non-null   int64  \n",
      " 10  GarageArea     1458 non-null   float64\n",
      " 11  WoodDeckSF     1459 non-null   int64  \n",
      " 12  OpenPorchSF    1459 non-null   int64  \n",
      " 13  EnclosedPorch  1459 non-null   int64  \n",
      " 14  ScreenPorch    1459 non-null   int64  \n",
      "dtypes: float64(5), int64(10)\n",
      "memory usage: 171.1 KB\n"
     ]
    }
   ],
   "source": [
    "select_test_df = test_df[feature_columns]\n",
    "select_test_df.info()"
   ]
  },
  {
   "cell_type": "code",
   "execution_count": 31,
   "metadata": {
    "execution": {
     "iopub.execute_input": "2025-02-03T14:02:16.311354Z",
     "iopub.status.busy": "2025-02-03T14:02:16.311137Z",
     "iopub.status.idle": "2025-02-03T14:02:16.337321Z",
     "shell.execute_reply": "2025-02-03T14:02:16.335805Z",
     "shell.execute_reply.started": "2025-02-03T14:02:16.311336Z"
    },
    "trusted": true
   },
   "outputs": [],
   "source": [
    "scailing_array_test = standardscaler_feature.transform(select_test_df)\n"
   ]
  },
  {
   "cell_type": "code",
   "execution_count": 32,
   "metadata": {
    "execution": {
     "iopub.execute_input": "2025-02-03T14:02:16.338454Z",
     "iopub.status.busy": "2025-02-03T14:02:16.338188Z",
     "iopub.status.idle": "2025-02-03T14:02:16.361450Z",
     "shell.execute_reply": "2025-02-03T14:02:16.360154Z",
     "shell.execute_reply.started": "2025-02-03T14:02:16.338430Z"
    },
    "trusted": true
   },
   "outputs": [],
   "source": [
    "test_features_tensor = torch.tensor(scailing_array_test, dtype=torch.float32)\n"
   ]
  },
  {
   "cell_type": "code",
   "execution_count": 33,
   "metadata": {
    "execution": {
     "iopub.execute_input": "2025-02-03T14:02:16.362723Z",
     "iopub.status.busy": "2025-02-03T14:02:16.362452Z",
     "iopub.status.idle": "2025-02-03T14:02:16.386309Z",
     "shell.execute_reply": "2025-02-03T14:02:16.385250Z",
     "shell.execute_reply.started": "2025-02-03T14:02:16.362695Z"
    },
    "trusted": true
   },
   "outputs": [],
   "source": [
    "with torch.no_grad(): # 학습 목정이 아닌 평가 목적 위해 고정\n",
    "    pred_y = model(test_features_tensor)\n"
   ]
  },
  {
   "cell_type": "code",
   "execution_count": 34,
   "metadata": {
    "execution": {
     "iopub.execute_input": "2025-02-03T14:02:16.387691Z",
     "iopub.status.busy": "2025-02-03T14:02:16.387295Z",
     "iopub.status.idle": "2025-02-03T14:02:16.415297Z",
     "shell.execute_reply": "2025-02-03T14:02:16.414286Z",
     "shell.execute_reply.started": "2025-02-03T14:02:16.387556Z"
    },
    "trusted": true
   },
   "outputs": [
    {
     "name": "stderr",
     "output_type": "stream",
     "text": [
      "<ipython-input-34-7973d5aff73e>:3: RuntimeWarning: invalid value encountered in cast\n",
      "  pred_y_fin = np.round(standardscaler_label.inverse_transform(pred_y.reshape(-1, 1))).astype(int)\n"
     ]
    }
   ],
   "source": [
    "import numpy as np\n",
    "# inverse transform 및 반올림\n",
    "pred_y_fin = np.round(standardscaler_label.inverse_transform(pred_y.reshape(-1, 1))).astype(int)\n",
    "\n",
    "# 1차원 배열로 변환 (필요한 경우)\n",
    "pred_y_fin = pred_y_fin.ravel()  # or pred_y_fin.flatten()"
   ]
  },
  {
   "cell_type": "code",
   "execution_count": 35,
   "metadata": {
    "execution": {
     "iopub.execute_input": "2025-02-03T14:02:16.416902Z",
     "iopub.status.busy": "2025-02-03T14:02:16.416557Z",
     "iopub.status.idle": "2025-02-03T14:02:16.447135Z",
     "shell.execute_reply": "2025-02-03T14:02:16.445918Z",
     "shell.execute_reply.started": "2025-02-03T14:02:16.416874Z"
    },
    "trusted": true
   },
   "outputs": [
    {
     "data": {
      "text/html": [
       "<div>\n",
       "<style scoped>\n",
       "    .dataframe tbody tr th:only-of-type {\n",
       "        vertical-align: middle;\n",
       "    }\n",
       "\n",
       "    .dataframe tbody tr th {\n",
       "        vertical-align: top;\n",
       "    }\n",
       "\n",
       "    .dataframe thead th {\n",
       "        text-align: right;\n",
       "    }\n",
       "</style>\n",
       "<table border=\"1\" class=\"dataframe\">\n",
       "  <thead>\n",
       "    <tr style=\"text-align: right;\">\n",
       "      <th></th>\n",
       "      <th>Id</th>\n",
       "      <th>SalePrice</th>\n",
       "    </tr>\n",
       "  </thead>\n",
       "  <tbody>\n",
       "    <tr>\n",
       "      <th>0</th>\n",
       "      <td>1461</td>\n",
       "      <td>108452</td>\n",
       "    </tr>\n",
       "    <tr>\n",
       "      <th>1</th>\n",
       "      <td>1462</td>\n",
       "      <td>163183</td>\n",
       "    </tr>\n",
       "    <tr>\n",
       "      <th>2</th>\n",
       "      <td>1463</td>\n",
       "      <td>204602</td>\n",
       "    </tr>\n",
       "    <tr>\n",
       "      <th>3</th>\n",
       "      <td>1464</td>\n",
       "      <td>177438</td>\n",
       "    </tr>\n",
       "    <tr>\n",
       "      <th>4</th>\n",
       "      <td>1465</td>\n",
       "      <td>210449</td>\n",
       "    </tr>\n",
       "  </tbody>\n",
       "</table>\n",
       "</div>"
      ],
      "text/plain": [
       "     Id  SalePrice\n",
       "0  1461     108452\n",
       "1  1462     163183\n",
       "2  1463     204602\n",
       "3  1464     177438\n",
       "4  1465     210449"
      ]
     },
     "execution_count": 35,
     "metadata": {},
     "output_type": "execute_result"
    }
   ],
   "source": [
    "output = pd.DataFrame({'Id': test_df.Id, 'SalePrice': pred_y_fin})\n",
    "output.head()"
   ]
  },
  {
   "cell_type": "code",
   "execution_count": 36,
   "metadata": {
    "execution": {
     "iopub.execute_input": "2025-02-03T14:02:16.448294Z",
     "iopub.status.busy": "2025-02-03T14:02:16.448039Z",
     "iopub.status.idle": "2025-02-03T14:02:16.463202Z",
     "shell.execute_reply": "2025-02-03T14:02:16.462221Z",
     "shell.execute_reply.started": "2025-02-03T14:02:16.448275Z"
    },
    "trusted": true
   },
   "outputs": [
    {
     "name": "stdout",
     "output_type": "stream",
     "text": [
      "<class 'pandas.core.frame.DataFrame'>\n",
      "RangeIndex: 1459 entries, 0 to 1458\n",
      "Data columns (total 2 columns):\n",
      " #   Column     Non-Null Count  Dtype\n",
      "---  ------     --------------  -----\n",
      " 0   Id         1459 non-null   int64\n",
      " 1   SalePrice  1459 non-null   int64\n",
      "dtypes: int64(2)\n",
      "memory usage: 22.9 KB\n"
     ]
    }
   ],
   "source": [
    "output.info()"
   ]
  },
  {
   "cell_type": "code",
   "execution_count": 37,
   "metadata": {
    "execution": {
     "iopub.execute_input": "2025-02-03T14:02:16.464335Z",
     "iopub.status.busy": "2025-02-03T14:02:16.464003Z",
     "iopub.status.idle": "2025-02-03T14:02:16.495370Z",
     "shell.execute_reply": "2025-02-03T14:02:16.494113Z",
     "shell.execute_reply.started": "2025-02-03T14:02:16.464303Z"
    },
    "trusted": true
   },
   "outputs": [],
   "source": [
    "output.to_csv('submission.csv', index=False) # sample_submission"
   ]
  },
  {
   "cell_type": "code",
   "execution_count": 38,
   "metadata": {
    "execution": {
     "iopub.execute_input": "2025-02-03T14:02:16.497149Z",
     "iopub.status.busy": "2025-02-03T14:02:16.496716Z",
     "iopub.status.idle": "2025-02-03T14:02:16.514347Z",
     "shell.execute_reply": "2025-02-03T14:02:16.513445Z",
     "shell.execute_reply.started": "2025-02-03T14:02:16.497081Z"
    },
    "trusted": true
   },
   "outputs": [
    {
     "data": {
      "text/plain": [
       "(1459, 2)"
      ]
     },
     "execution_count": 38,
     "metadata": {},
     "output_type": "execute_result"
    }
   ],
   "source": [
    "output.shape"
   ]
  },
  {
   "cell_type": "code",
   "execution_count": 39,
   "metadata": {
    "execution": {
     "iopub.execute_input": "2025-02-03T14:02:16.515570Z",
     "iopub.status.busy": "2025-02-03T14:02:16.515331Z",
     "iopub.status.idle": "2025-02-03T14:02:16.537600Z",
     "shell.execute_reply": "2025-02-03T14:02:16.536682Z",
     "shell.execute_reply.started": "2025-02-03T14:02:16.515551Z"
    },
    "trusted": true
   },
   "outputs": [
    {
     "data": {
      "text/plain": [
       "(1459, 80)"
      ]
     },
     "execution_count": 39,
     "metadata": {},
     "output_type": "execute_result"
    }
   ],
   "source": [
    "test_df.shape"
   ]
  },
  {
   "cell_type": "markdown",
   "metadata": {},
   "source": [
    "## 모델 배포"
   ]
  },
  {
   "cell_type": "code",
   "execution_count": 44,
   "metadata": {
    "execution": {
     "iopub.execute_input": "2025-02-03T14:18:03.881086Z",
     "iopub.status.busy": "2025-02-03T14:18:03.880826Z",
     "iopub.status.idle": "2025-02-03T14:18:03.887358Z",
     "shell.execute_reply": "2025-02-03T14:18:03.886335Z",
     "shell.execute_reply.started": "2025-02-03T14:18:03.881067Z"
    },
    "trusted": true
   },
   "outputs": [
    {
     "name": "stdout",
     "output_type": "stream",
     "text": [
      "모든 모델 정보가 저장되었습니다.\n"
     ]
    }
   ],
   "source": [
    "import pickle\n",
    "\n",
    "# 모든 모델 정보를 저장할 딕셔너리 생성\n",
    "model_info = {\n",
    "    'scale_feature': standardscaler_feature,\n",
    "    'scale_label': standardscaler_label\n",
    "}\n",
    "\n",
    "# 파일 경로 설정\n",
    "save_file_name = 'linear_regression_scale.pkl'\n",
    "\n",
    "# 모든 모델 정보를 함께 저장\n",
    "with open(save_file_name, 'wb') as save_file:\n",
    "    pickle.dump(model_info, save_file)\n",
    "\n",
    "print(\"모든 모델 정보가 저장되었습니다.\")"
   ]
  },
  {
   "cell_type": "code",
   "execution_count": 43,
   "metadata": {
    "execution": {
     "iopub.execute_input": "2025-02-03T14:06:24.913460Z",
     "iopub.status.busy": "2025-02-03T14:06:24.913091Z",
     "iopub.status.idle": "2025-02-03T14:06:24.919521Z",
     "shell.execute_reply": "2025-02-03T14:06:24.918336Z",
     "shell.execute_reply.started": "2025-02-03T14:06:24.913431Z"
    },
    "trusted": true
   },
   "outputs": [],
   "source": [
    "# 모델 weight와 bias 파일로 저장 (checkpoints)\n",
    "torch.save(model.state_dict(), \"linear_regression_nnm.pth\")"
   ]
  }
 ],
 "metadata": {
  "colab": {
   "authorship_tag": "ABX9TyPoxipHZcA6R4fFf1KpevMX",
   "include_colab_link": true,
   "provenance": []
  },
  "kaggle": {
   "accelerator": "none",
   "dataSources": [
    {
     "databundleVersionId": 868283,
     "sourceId": 5407,
     "sourceType": "competition"
    }
   ],
   "dockerImageVersionId": 30839,
   "isGpuEnabled": false,
   "isInternetEnabled": false,
   "language": "python",
   "sourceType": "notebook"
  },
  "kernelspec": {
   "display_name": "Python 3",
   "language": "python",
   "name": "python3"
  },
  "language_info": {
   "codemirror_mode": {
    "name": "ipython",
    "version": 3
   },
   "file_extension": ".py",
   "mimetype": "text/x-python",
   "name": "python",
   "nbconvert_exporter": "python",
   "pygments_lexer": "ipython3",
   "version": "3.11.11"
  }
 },
 "nbformat": 4,
 "nbformat_minor": 4
}
