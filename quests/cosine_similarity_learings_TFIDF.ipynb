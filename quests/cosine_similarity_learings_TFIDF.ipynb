{
 "cells": [
  {
   "cell_type": "code",
   "execution_count": 64,
   "metadata": {},
   "outputs": [],
   "source": [
    "from pymongo import MongoClient\n",
    "import pandas as pd \n",
    "import re\n",
    "from collections import Counter\n",
    "from konlpy.tag import Okt\n",
    "from mecab import MeCab\n",
    "from wordcloud import WordCloud\n",
    "import matplotlib.pyplot as plt\n",
    "from sklearn.feature_extraction.text import TfidfVectorizer # word embedding\n",
    "from sklearn.metrics.pairwise import cosine_similarity\n",
    "\n",
    "# 네트워크 연결 규칙 : protocol://ip:port/path \n",
    "client = MongoClient('mongodb://192.168.0.50:27017/')\n",
    "\n",
    "db_name = client[\"DB_SGMN\"]\n",
    "collection = db_name[\"COL_SCRAPPING_TOSS_COMMENT_HISTORY\"]"
   ]
  },
  {
   "cell_type": "code",
   "execution_count": 65,
   "metadata": {},
   "outputs": [],
   "source": [
    "find_data = collection.find()\n",
    "data_list = list(find_data)"
   ]
  },
  {
   "cell_type": "code",
   "execution_count": 66,
   "metadata": {},
   "outputs": [
    {
     "name": "stdout",
     "output_type": "stream",
     "text": [
      "<class 'pandas.core.frame.DataFrame'>\n",
      "RangeIndex: 251836 entries, 0 to 251835\n",
      "Data columns (total 7 columns):\n",
      " #   Column      Non-Null Count   Dtype         \n",
      "---  ------      --------------   -----         \n",
      " 0   _id         251836 non-null  object        \n",
      " 1   COMMENT     251836 non-null  object        \n",
      " 2   CREATED_AT  251836 non-null  datetime64[ns]\n",
      " 3   DATE        251836 non-null  object        \n",
      " 4   DATETIME    251836 non-null  object        \n",
      " 5   SYMBOL      251836 non-null  object        \n",
      " 6   UPDATED_AT  251836 non-null  object        \n",
      "dtypes: datetime64[ns](1), object(6)\n",
      "memory usage: 13.4+ MB\n"
     ]
    }
   ],
   "source": [
    "df_data = pd.DataFrame(data_list)\n",
    "df_data.info()"
   ]
  },
  {
   "cell_type": "code",
   "execution_count": 67,
   "metadata": {},
   "outputs": [],
   "source": [
    "okt = Okt()\n",
    "mecab_inst = MeCab()"
   ]
  },
  {
   "cell_type": "code",
   "execution_count": 68,
   "metadata": {},
   "outputs": [],
   "source": [
    "# week = 49\n",
    "# df_week = df_data[df_data['WEEK'] == week]['COMMENT']\n",
    "start_index = 100000\n",
    "end_index =110000\n",
    "df_comment = df_data['COMMENT'][start_index:end_index]\n",
    "string_nouns = []\n",
    "for text in df_comment:\n",
    "    # nouns_text = mecab_inst.nouns(text)\n",
    "    # filtered_nouns = [noun for noun in nouns_text if len(noun) > 1]\n",
    "\n",
    "    # modify_nouns = ['엔비디아' if noun in ['엔비', '비디아'] else noun for noun in filtered_nouns]\n",
    "    # string_nouns.append(' '.join(modify_nouns))  # join() 메서드 사용\n",
    "    nouns_text = mecab_inst.morphs(text)   \n",
    "    # print(nouns_text)\n",
    "    # for noun, _ in nouns_text:\n",
    "    #     if noun in ['엔비', '비디아']:\n",
    "    #         print(nouns_text)  # '엔비' 또는 '비디아'일 경우 nouns_text 전체 출력\n",
    "    # modify_nouns = ['엔비디아' if noun in ['엔비', '비디아'] else noun for noun in nouns_text]\n",
    "    # verb_text = okt.pos(text, stem=True)\n",
    "    # verb_list = [ word for word, pos in verb_text if pos == 'Verb']\n",
    "    #verb_list = [ word for word, pos in verb_text]\n",
    "  \n",
    "    string_nouns.append(' '.join(nouns_text)) \n",
    "\n",
    "    \n",
    "tfidfvectorizer = TfidfVectorizer()\n",
    "    # stop_words=stopwords, \n",
    "    # ngram_range=ngramrange)\n",
    "tfidfvectorizer.fit(string_nouns) # 학습\n",
    "result_vectors = tfidfvectorizer.transform(string_nouns) \n"
   ]
  },
  {
   "cell_type": "code",
   "execution_count": 69,
   "metadata": {},
   "outputs": [
    {
     "data": {
      "text/plain": [
       "<1x9759 sparse matrix of type '<class 'numpy.float64'>'\n",
       "\twith 2 stored elements in Compressed Sparse Row format>"
      ]
     },
     "execution_count": 69,
     "metadata": {},
     "output_type": "execute_result"
    }
   ],
   "source": [
    "new_sentence = ['사이버 보안은 디지털 시대의 중요한 이슈로 부상하고 있으며, 지속적인 관심과 개선이 요구된다.']\n",
    "\n",
    "new_tfidfvectorizer = tfidfvectorizer.transform(new_sentence) # 입력 text를 vocablary를 기준으로 embedding 함\n",
    "new_tfidfvectorizer"
   ]
  },
  {
   "cell_type": "code",
   "execution_count": 70,
   "metadata": {},
   "outputs": [
    {
     "data": {
      "text/plain": [
       "array([[0., 0., 0., ..., 0., 0., 0.]])"
      ]
     },
     "execution_count": 70,
     "metadata": {},
     "output_type": "execute_result"
    }
   ],
   "source": [
    "similarity_array = cosine_similarity(new_tfidfvectorizer, result_vectors)\n",
    "# 닮은것 찾기 어려움 그래서 많은 문장과 단어를 학습해 두어야 함.\n",
    "similarity_array"
   ]
  },
  {
   "cell_type": "code",
   "execution_count": 71,
   "metadata": {},
   "outputs": [
    {
     "data": {
      "text/plain": [
       "('사이버트럭이나 하이랜드 하자 이슈 하나 뜨면 바로 조정각임. 그만큼 지금 수익실현 직전이 많음 조심들하세요',\n",
       " 0.2100355871544949)"
      ]
     },
     "execution_count": 71,
     "metadata": {},
     "output_type": "execute_result"
    }
   ],
   "source": [
    "idx = similarity_array[0].argmax()\n",
    "df_comment.reset_index(drop=True, inplace=True)\n",
    "df_comment[idx], similarity_array[0].max()"
   ]
  },
  {
   "cell_type": "code",
   "execution_count": 73,
   "metadata": {},
   "outputs": [
    {
     "name": "stdout",
     "output_type": "stream",
     "text": [
      "모든 모델 정보가 저장되었습니다.\n"
     ]
    }
   ],
   "source": [
    "import pickle\n",
    "\n",
    "# 모든 모델 정보를 저장할 딕셔너리 생성\n",
    "model_info = {\n",
    "    'TfidfVectorizer': tfidfvectorizer,  # 카테고리형 변수들의 원핫인코더 모델들\n",
    "    'start_index': start_index,\n",
    "    'end_index': end_index,\n",
    "    'vocabulary_vector' : result_vectors\n",
    "}\n",
    "\n",
    "# 파일 경로 설정\n",
    "save_file_name = '../models/cosine_similarity_learnings_TFIDF.pkl'\n",
    "\n",
    "# 모든 모델 정보를 함께 저장\n",
    "with open(save_file_name, 'wb') as save_file:\n",
    "    pickle.dump(model_info, save_file)\n",
    "\n",
    "print(\"모든 모델 정보가 저장되었습니다.\")"
   ]
  }
 ],
 "metadata": {
  "kernelspec": {
   "display_name": "Python 3",
   "language": "python",
   "name": "python3"
  },
  "language_info": {
   "codemirror_mode": {
    "name": "ipython",
    "version": 3
   },
   "file_extension": ".py",
   "mimetype": "text/x-python",
   "name": "python",
   "nbconvert_exporter": "python",
   "pygments_lexer": "ipython3",
   "version": "3.11.11"
  }
 },
 "nbformat": 4,
 "nbformat_minor": 2
}
